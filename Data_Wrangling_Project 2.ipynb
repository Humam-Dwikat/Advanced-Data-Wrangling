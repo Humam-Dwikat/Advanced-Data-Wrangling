{
 "cells": [
  {
   "cell_type": "markdown",
   "metadata": {
    "id": "GNIwe5N7s0e_"
   },
   "source": [
    "# Real-world Data Wrangling"
   ]
  },
  {
   "cell_type": "markdown",
   "metadata": {},
   "source": [
    "**Note:** Restart the kernel to use updated package(s)."
   ]
  },
  {
   "cell_type": "markdown",
   "metadata": {
    "id": "lDYDkH-Zs7Nn"
   },
   "source": [
    "## 1. Gather data\n",
    "\n"
   ]
  },
  {
   "cell_type": "code",
   "execution_count": 140,
   "metadata": {},
   "outputs": [
    {
     "name": "stdout",
     "output_type": "stream",
     "text": [
      "Requirement already satisfied: kagglehub in /usr/local/lib/python3.10/dist-packages (0.3.6)\n",
      "Requirement already satisfied: packaging in /home/humam/.local/lib/python3.10/site-packages (from kagglehub) (21.3)\n",
      "Requirement already satisfied: requests in /home/humam/.local/lib/python3.10/site-packages (from kagglehub) (2.28.2)\n",
      "Requirement already satisfied: tqdm in /usr/local/lib/python3.10/dist-packages (from kagglehub) (4.67.1)\n",
      "Requirement already satisfied: pyparsing!=3.0.5,>=2.0.2 in /usr/lib/python3/dist-packages (from packaging->kagglehub) (2.4.7)\n",
      "Requirement already satisfied: charset-normalizer<4,>=2 in /home/humam/.local/lib/python3.10/site-packages (from requests->kagglehub) (3.1.0)\n",
      "Requirement already satisfied: idna<4,>=2.5 in /usr/lib/python3/dist-packages (from requests->kagglehub) (3.3)\n",
      "Requirement already satisfied: urllib3<1.27,>=1.21.1 in /usr/local/lib/python3.10/dist-packages (from requests->kagglehub) (1.26.18)\n",
      "Requirement already satisfied: certifi>=2017.4.17 in /home/humam/.local/lib/python3.10/site-packages (from requests->kagglehub) (2024.2.2)\n",
      "\n",
      "\u001b[1m[\u001b[0m\u001b[34;49mnotice\u001b[0m\u001b[1;39;49m]\u001b[0m\u001b[39;49m A new release of pip is available: \u001b[0m\u001b[31;49m24.0\u001b[0m\u001b[39;49m -> \u001b[0m\u001b[32;49m24.3.1\u001b[0m\n",
      "\u001b[1m[\u001b[0m\u001b[34;49mnotice\u001b[0m\u001b[1;39;49m]\u001b[0m\u001b[39;49m To update, run: \u001b[0m\u001b[32;49mpython3 -m pip install --upgrade pip\u001b[0m\n"
     ]
    }
   ],
   "source": [
    "!pip install kagglehub\n"
   ]
  },
  {
   "cell_type": "code",
   "execution_count": 141,
   "metadata": {},
   "outputs": [],
   "source": [
    "import kagglehub\n",
    "import pandas as pd\n",
    "import matplotlib.pyplot as plt\n"
   ]
  },
  {
   "cell_type": "markdown",
   "metadata": {
    "id": "LbN7z7rcuqpO"
   },
   "source": [
    "### **1.1.** Problem Statement\n",
    "For this project, I will be analyzing datasets that contain information about store promotions and pricing to answer two key questions. The first question explores which items (item_id) are discounted most frequently, and in which stores (store_id.\n"
   ]
  },
  {
   "cell_type": "markdown",
   "metadata": {
    "id": "gi6swhjSYqu2"
   },
   "source": [
    "\n",
    "#### 1- : Which items (item_id) are discounted most frequently, and in which stores (store_id)?\n",
    "#### 2- : top 10 highest-priced items?\n"
   ]
  },
  {
   "cell_type": "markdown",
   "metadata": {
    "id": "8AQfBAdUypMm"
   },
   "source": [
    "### **1.2.** Gather at least two datasets using two different data gathering methods\n",
    "\n",
    "In this project, I have decided to gather the datasets using the manual as well as programatic download methods through Kagglehup.\n",
    "\n"
   ]
  },
  {
   "cell_type": "markdown",
   "metadata": {
    "id": "7e6gS0wL1KTu"
   },
   "source": [
    "#### **Dataset 1**\n",
    "\n",
    "Type: *CSV file* \n",
    "\n",
    "File name : *price_history*\n",
    "\n",
    "Method: *Kagglehub* https://www.kaggle.com/datasets/svizor/retail-sales-forecasting-data?select=price_history.csv\n",
    "\n",
    "Dataset variables:\n",
    " - date: The date when the price data was recorded.\n",
    " - item_id: The unique identifier for the items.\n",
    " - sale_price_before_promo: The price of the item before any promotional discounts were applied.\n",
    " - sale_price_time_promo: The price of the item during the promotional period.\n",
    " - promo_type_code: The code identifying the type of promotion applied to the item.\n",
    " - doc_id: The unique identifier for the document (e.g., promotion record).\n",
    " - number_disc_day: The number of days the item was on promotion.\n",
    " - store_id: The unique identifier for the store.\n"
   ]
  },
  {
   "cell_type": "code",
   "execution_count": 142,
   "metadata": {
    "id": "Su8E0uLuYkHU"
   },
   "outputs": [
    {
     "data": {
      "text/html": [
       "<div>\n",
       "<style scoped>\n",
       "    .dataframe tbody tr th:only-of-type {\n",
       "        vertical-align: middle;\n",
       "    }\n",
       "\n",
       "    .dataframe tbody tr th {\n",
       "        vertical-align: top;\n",
       "    }\n",
       "\n",
       "    .dataframe thead th {\n",
       "        text-align: right;\n",
       "    }\n",
       "</style>\n",
       "<table border=\"1\" class=\"dataframe\">\n",
       "  <thead>\n",
       "    <tr style=\"text-align: right;\">\n",
       "      <th></th>\n",
       "      <th>Unnamed: 0</th>\n",
       "      <th>date</th>\n",
       "      <th>item_id</th>\n",
       "      <th>price</th>\n",
       "      <th>code</th>\n",
       "      <th>store_id</th>\n",
       "    </tr>\n",
       "  </thead>\n",
       "  <tbody>\n",
       "    <tr>\n",
       "      <th>0</th>\n",
       "      <td>0</td>\n",
       "      <td>2023-08-01</td>\n",
       "      <td>4a1f95fe4d4b</td>\n",
       "      <td>499.9</td>\n",
       "      <td>1</td>\n",
       "      <td>1</td>\n",
       "    </tr>\n",
       "    <tr>\n",
       "      <th>1</th>\n",
       "      <td>1</td>\n",
       "      <td>2023-08-01</td>\n",
       "      <td>bf43a9d3ae13</td>\n",
       "      <td>0.0</td>\n",
       "      <td>9999999999</td>\n",
       "      <td>1</td>\n",
       "    </tr>\n",
       "    <tr>\n",
       "      <th>2</th>\n",
       "      <td>2</td>\n",
       "      <td>2023-08-01</td>\n",
       "      <td>0dd8744decce</td>\n",
       "      <td>129.9</td>\n",
       "      <td>1</td>\n",
       "      <td>1</td>\n",
       "    </tr>\n",
       "    <tr>\n",
       "      <th>3</th>\n",
       "      <td>3</td>\n",
       "      <td>2023-08-01</td>\n",
       "      <td>9b38c7e4dba9</td>\n",
       "      <td>136.0</td>\n",
       "      <td>1</td>\n",
       "      <td>1</td>\n",
       "    </tr>\n",
       "    <tr>\n",
       "      <th>4</th>\n",
       "      <td>4</td>\n",
       "      <td>2023-08-01</td>\n",
       "      <td>b791e8c9347c</td>\n",
       "      <td>0.0</td>\n",
       "      <td>1</td>\n",
       "      <td>1</td>\n",
       "    </tr>\n",
       "  </tbody>\n",
       "</table>\n",
       "</div>"
      ],
      "text/plain": [
       "   Unnamed: 0        date       item_id  price        code  store_id\n",
       "0           0  2023-08-01  4a1f95fe4d4b  499.9           1         1\n",
       "1           1  2023-08-01  bf43a9d3ae13    0.0  9999999999         1\n",
       "2           2  2023-08-01  0dd8744decce  129.9           1         1\n",
       "3           3  2023-08-01  9b38c7e4dba9  136.0           1         1\n",
       "4           4  2023-08-01  b791e8c9347c    0.0           1         1"
      ]
     },
     "execution_count": 142,
     "metadata": {},
     "output_type": "execute_result"
    }
   ],
   "source": [
    "path = kagglehub.dataset_download(\"svizor/retail-sales-forecasting-data\")\n",
    "df_price = pd.read_csv(path + \"/price_history.csv\")\n",
    "df_price.head()"
   ]
  },
  {
   "cell_type": "markdown",
   "metadata": {
    "id": "hoUjq1tPzz7P"
   },
   "source": [
    "#### Dataset 2\n",
    "\n",
    "Type: *CSV file* \n",
    "\n",
    "File name: discount_history\n",
    " \n",
    "Method: *manual Dwonload* the data gathered manual from https://www.kaggle.com/datasets/svizor/retail-sales-forecasting-data?resource=download&select=discounts_history.csv\n",
    "\n",
    "Dataset variables:\n",
    "\n",
    " - date: The date when the price data was recorded.\n",
    " - item_id: The unique identifier for the item.\n",
    " - sale_price_before_promo: The price of the item before any promotional discount.\n",
    " - sale_price_time_promo: The price of the item during the promotional period.\n",
    " - promo_type_code: The code for the type of promotion applied to the item.\n",
    " - doc_id: The unique identifier for the promotional document (such as a promotion record).\n",
    " - number_disc_day: The number of days the item was on promotion.\n",
    " - store_id: The unique identifier for the store."
   ]
  },
  {
   "cell_type": "code",
   "execution_count": 143,
   "metadata": {
    "id": "6zT0QxRyYmm7"
   },
   "outputs": [
    {
     "data": {
      "text/html": [
       "<div>\n",
       "<style scoped>\n",
       "    .dataframe tbody tr th:only-of-type {\n",
       "        vertical-align: middle;\n",
       "    }\n",
       "\n",
       "    .dataframe tbody tr th {\n",
       "        vertical-align: top;\n",
       "    }\n",
       "\n",
       "    .dataframe thead th {\n",
       "        text-align: right;\n",
       "    }\n",
       "</style>\n",
       "<table border=\"1\" class=\"dataframe\">\n",
       "  <thead>\n",
       "    <tr style=\"text-align: right;\">\n",
       "      <th></th>\n",
       "      <th>Unnamed: 0</th>\n",
       "      <th>date</th>\n",
       "      <th>item_id</th>\n",
       "      <th>sale_price_before_promo</th>\n",
       "      <th>sale_price_time_promo</th>\n",
       "      <th>promo_type_code</th>\n",
       "      <th>doc_id</th>\n",
       "      <th>number_disc_day</th>\n",
       "      <th>store_id</th>\n",
       "    </tr>\n",
       "  </thead>\n",
       "  <tbody>\n",
       "    <tr>\n",
       "      <th>0</th>\n",
       "      <td>3648316</td>\n",
       "      <td>2022-08-28</td>\n",
       "      <td>cde97a9ec3ef</td>\n",
       "      <td>729.9</td>\n",
       "      <td>669.9</td>\n",
       "      <td>6.0</td>\n",
       "      <td>89ea9f0c-1c08-11ed-ad4d-005056861040</td>\n",
       "      <td>13.0</td>\n",
       "      <td>1</td>\n",
       "    </tr>\n",
       "    <tr>\n",
       "      <th>1</th>\n",
       "      <td>3648317</td>\n",
       "      <td>2022-08-28</td>\n",
       "      <td>2906fbc9e11c</td>\n",
       "      <td>129.9</td>\n",
       "      <td>99.9</td>\n",
       "      <td>NaN</td>\n",
       "      <td>039e85df-1e51-11ed-ad4d-005056861040</td>\n",
       "      <td>11.0</td>\n",
       "      <td>1</td>\n",
       "    </tr>\n",
       "    <tr>\n",
       "      <th>2</th>\n",
       "      <td>3648318</td>\n",
       "      <td>2022-08-28</td>\n",
       "      <td>c48c3a3d8c01</td>\n",
       "      <td>129.9</td>\n",
       "      <td>99.9</td>\n",
       "      <td>NaN</td>\n",
       "      <td>039e85df-1e51-11ed-ad4d-005056861040</td>\n",
       "      <td>11.0</td>\n",
       "      <td>1</td>\n",
       "    </tr>\n",
       "    <tr>\n",
       "      <th>3</th>\n",
       "      <td>3648319</td>\n",
       "      <td>2022-08-28</td>\n",
       "      <td>f85243ca61e6</td>\n",
       "      <td>129.9</td>\n",
       "      <td>99.9</td>\n",
       "      <td>NaN</td>\n",
       "      <td>039e85df-1e51-11ed-ad4d-005056861040</td>\n",
       "      <td>11.0</td>\n",
       "      <td>1</td>\n",
       "    </tr>\n",
       "    <tr>\n",
       "      <th>4</th>\n",
       "      <td>3648320</td>\n",
       "      <td>2022-08-28</td>\n",
       "      <td>27ce75534065</td>\n",
       "      <td>129.9</td>\n",
       "      <td>99.9</td>\n",
       "      <td>NaN</td>\n",
       "      <td>039e85df-1e51-11ed-ad4d-005056861040</td>\n",
       "      <td>11.0</td>\n",
       "      <td>1</td>\n",
       "    </tr>\n",
       "  </tbody>\n",
       "</table>\n",
       "</div>"
      ],
      "text/plain": [
       "   Unnamed: 0        date       item_id  sale_price_before_promo  \\\n",
       "0     3648316  2022-08-28  cde97a9ec3ef                    729.9   \n",
       "1     3648317  2022-08-28  2906fbc9e11c                    129.9   \n",
       "2     3648318  2022-08-28  c48c3a3d8c01                    129.9   \n",
       "3     3648319  2022-08-28  f85243ca61e6                    129.9   \n",
       "4     3648320  2022-08-28  27ce75534065                    129.9   \n",
       "\n",
       "   sale_price_time_promo  promo_type_code  \\\n",
       "0                  669.9              6.0   \n",
       "1                   99.9              NaN   \n",
       "2                   99.9              NaN   \n",
       "3                   99.9              NaN   \n",
       "4                   99.9              NaN   \n",
       "\n",
       "                                 doc_id  number_disc_day  store_id  \n",
       "0  89ea9f0c-1c08-11ed-ad4d-005056861040             13.0         1  \n",
       "1  039e85df-1e51-11ed-ad4d-005056861040             11.0         1  \n",
       "2  039e85df-1e51-11ed-ad4d-005056861040             11.0         1  \n",
       "3  039e85df-1e51-11ed-ad4d-005056861040             11.0         1  \n",
       "4  039e85df-1e51-11ed-ad4d-005056861040             11.0         1  "
      ]
     },
     "execution_count": 143,
     "metadata": {},
     "output_type": "execute_result"
    }
   ],
   "source": [
    "df_discount = pd.read_csv(\"discounts_history.csv\")\n",
    "df_discount.head()"
   ]
  },
  {
   "cell_type": "code",
   "execution_count": 144,
   "metadata": {},
   "outputs": [],
   "source": [
    "# Save the raw data to a CSV file\n",
    "df_price.to_csv('df_price_raw.csv', index=False)\n",
    "df_discount.to_csv('df_discount_raw.csv', index=False)"
   ]
  },
  {
   "cell_type": "markdown",
   "metadata": {
    "id": "QwSWIVmotLgV"
   },
   "source": [
    "## 2. Assess data\n",
    "\n"
   ]
  },
  {
   "cell_type": "markdown",
   "metadata": {
    "id": "adaK2iPNzVu4"
   },
   "source": [
    "### Completeness :"
   ]
  },
  {
   "cell_type": "code",
   "execution_count": 145,
   "metadata": {
    "id": "SpW59kh-zl8d"
   },
   "outputs": [
    {
     "data": {
      "text/html": [
       "<div>\n",
       "<style scoped>\n",
       "    .dataframe tbody tr th:only-of-type {\n",
       "        vertical-align: middle;\n",
       "    }\n",
       "\n",
       "    .dataframe tbody tr th {\n",
       "        vertical-align: top;\n",
       "    }\n",
       "\n",
       "    .dataframe thead th {\n",
       "        text-align: right;\n",
       "    }\n",
       "</style>\n",
       "<table border=\"1\" class=\"dataframe\">\n",
       "  <thead>\n",
       "    <tr style=\"text-align: right;\">\n",
       "      <th></th>\n",
       "      <th>Unnamed: 0</th>\n",
       "      <th>date</th>\n",
       "      <th>item_id</th>\n",
       "      <th>price</th>\n",
       "      <th>code</th>\n",
       "      <th>store_id</th>\n",
       "    </tr>\n",
       "  </thead>\n",
       "  <tbody>\n",
       "    <tr>\n",
       "      <th>0</th>\n",
       "      <td>0</td>\n",
       "      <td>2023-08-01</td>\n",
       "      <td>4a1f95fe4d4b</td>\n",
       "      <td>499.9</td>\n",
       "      <td>1</td>\n",
       "      <td>1</td>\n",
       "    </tr>\n",
       "    <tr>\n",
       "      <th>1</th>\n",
       "      <td>1</td>\n",
       "      <td>2023-08-01</td>\n",
       "      <td>bf43a9d3ae13</td>\n",
       "      <td>0.0</td>\n",
       "      <td>9999999999</td>\n",
       "      <td>1</td>\n",
       "    </tr>\n",
       "    <tr>\n",
       "      <th>2</th>\n",
       "      <td>2</td>\n",
       "      <td>2023-08-01</td>\n",
       "      <td>0dd8744decce</td>\n",
       "      <td>129.9</td>\n",
       "      <td>1</td>\n",
       "      <td>1</td>\n",
       "    </tr>\n",
       "    <tr>\n",
       "      <th>3</th>\n",
       "      <td>3</td>\n",
       "      <td>2023-08-01</td>\n",
       "      <td>9b38c7e4dba9</td>\n",
       "      <td>136.0</td>\n",
       "      <td>1</td>\n",
       "      <td>1</td>\n",
       "    </tr>\n",
       "    <tr>\n",
       "      <th>4</th>\n",
       "      <td>4</td>\n",
       "      <td>2023-08-01</td>\n",
       "      <td>b791e8c9347c</td>\n",
       "      <td>0.0</td>\n",
       "      <td>1</td>\n",
       "      <td>1</td>\n",
       "    </tr>\n",
       "  </tbody>\n",
       "</table>\n",
       "</div>"
      ],
      "text/plain": [
       "   Unnamed: 0        date       item_id  price        code  store_id\n",
       "0           0  2023-08-01  4a1f95fe4d4b  499.9           1         1\n",
       "1           1  2023-08-01  bf43a9d3ae13    0.0  9999999999         1\n",
       "2           2  2023-08-01  0dd8744decce  129.9           1         1\n",
       "3           3  2023-08-01  9b38c7e4dba9  136.0           1         1\n",
       "4           4  2023-08-01  b791e8c9347c    0.0           1         1"
      ]
     },
     "execution_count": 145,
     "metadata": {},
     "output_type": "execute_result"
    }
   ],
   "source": [
    "df_price.head()"
   ]
  },
  {
   "cell_type": "code",
   "execution_count": 146,
   "metadata": {},
   "outputs": [
    {
     "data": {
      "text/html": [
       "<div>\n",
       "<style scoped>\n",
       "    .dataframe tbody tr th:only-of-type {\n",
       "        vertical-align: middle;\n",
       "    }\n",
       "\n",
       "    .dataframe tbody tr th {\n",
       "        vertical-align: top;\n",
       "    }\n",
       "\n",
       "    .dataframe thead th {\n",
       "        text-align: right;\n",
       "    }\n",
       "</style>\n",
       "<table border=\"1\" class=\"dataframe\">\n",
       "  <thead>\n",
       "    <tr style=\"text-align: right;\">\n",
       "      <th></th>\n",
       "      <th>Unnamed: 0</th>\n",
       "      <th>date</th>\n",
       "      <th>item_id</th>\n",
       "      <th>price</th>\n",
       "      <th>code</th>\n",
       "      <th>store_id</th>\n",
       "    </tr>\n",
       "  </thead>\n",
       "  <tbody>\n",
       "    <tr>\n",
       "      <th>698621</th>\n",
       "      <td>1885028</td>\n",
       "      <td>2024-09-26</td>\n",
       "      <td>7586d4f4599e</td>\n",
       "      <td>479.9</td>\n",
       "      <td>10</td>\n",
       "      <td>4</td>\n",
       "    </tr>\n",
       "    <tr>\n",
       "      <th>698622</th>\n",
       "      <td>1885029</td>\n",
       "      <td>2024-09-26</td>\n",
       "      <td>4b7ea164af56</td>\n",
       "      <td>359.9</td>\n",
       "      <td>31</td>\n",
       "      <td>4</td>\n",
       "    </tr>\n",
       "    <tr>\n",
       "      <th>698623</th>\n",
       "      <td>1885030</td>\n",
       "      <td>2024-09-26</td>\n",
       "      <td>c1b874b62220</td>\n",
       "      <td>359.9</td>\n",
       "      <td>10</td>\n",
       "      <td>4</td>\n",
       "    </tr>\n",
       "    <tr>\n",
       "      <th>698624</th>\n",
       "      <td>1885031</td>\n",
       "      <td>2024-09-26</td>\n",
       "      <td>c1b874b62220</td>\n",
       "      <td>279.9</td>\n",
       "      <td>29</td>\n",
       "      <td>4</td>\n",
       "    </tr>\n",
       "    <tr>\n",
       "      <th>698625</th>\n",
       "      <td>1885032</td>\n",
       "      <td>2024-09-26</td>\n",
       "      <td>66dcdf3628de</td>\n",
       "      <td>99.9</td>\n",
       "      <td>10</td>\n",
       "      <td>4</td>\n",
       "    </tr>\n",
       "  </tbody>\n",
       "</table>\n",
       "</div>"
      ],
      "text/plain": [
       "        Unnamed: 0        date       item_id  price  code  store_id\n",
       "698621     1885028  2024-09-26  7586d4f4599e  479.9    10         4\n",
       "698622     1885029  2024-09-26  4b7ea164af56  359.9    31         4\n",
       "698623     1885030  2024-09-26  c1b874b62220  359.9    10         4\n",
       "698624     1885031  2024-09-26  c1b874b62220  279.9    29         4\n",
       "698625     1885032  2024-09-26  66dcdf3628de   99.9    10         4"
      ]
     },
     "execution_count": 146,
     "metadata": {},
     "output_type": "execute_result"
    }
   ],
   "source": [
    "df_price.tail()"
   ]
  },
  {
   "cell_type": "code",
   "execution_count": 147,
   "metadata": {},
   "outputs": [
    {
     "data": {
      "text/html": [
       "<div>\n",
       "<style scoped>\n",
       "    .dataframe tbody tr th:only-of-type {\n",
       "        vertical-align: middle;\n",
       "    }\n",
       "\n",
       "    .dataframe tbody tr th {\n",
       "        vertical-align: top;\n",
       "    }\n",
       "\n",
       "    .dataframe thead th {\n",
       "        text-align: right;\n",
       "    }\n",
       "</style>\n",
       "<table border=\"1\" class=\"dataframe\">\n",
       "  <thead>\n",
       "    <tr style=\"text-align: right;\">\n",
       "      <th></th>\n",
       "      <th>Unnamed: 0</th>\n",
       "      <th>date</th>\n",
       "      <th>item_id</th>\n",
       "      <th>price</th>\n",
       "      <th>code</th>\n",
       "      <th>store_id</th>\n",
       "    </tr>\n",
       "  </thead>\n",
       "  <tbody>\n",
       "    <tr>\n",
       "      <th>697459</th>\n",
       "      <td>1883866</td>\n",
       "      <td>2024-09-25</td>\n",
       "      <td>b1db3fa1a974</td>\n",
       "      <td>199.9</td>\n",
       "      <td>9</td>\n",
       "      <td>4</td>\n",
       "    </tr>\n",
       "    <tr>\n",
       "      <th>35379</th>\n",
       "      <td>35379</td>\n",
       "      <td>2023-10-18</td>\n",
       "      <td>a2d871968596</td>\n",
       "      <td>63.9</td>\n",
       "      <td>12</td>\n",
       "      <td>1</td>\n",
       "    </tr>\n",
       "    <tr>\n",
       "      <th>504347</th>\n",
       "      <td>1607362</td>\n",
       "      <td>2023-08-30</td>\n",
       "      <td>4bfdba2fc912</td>\n",
       "      <td>1299.9</td>\n",
       "      <td>26</td>\n",
       "      <td>3</td>\n",
       "    </tr>\n",
       "    <tr>\n",
       "      <th>668835</th>\n",
       "      <td>1855242</td>\n",
       "      <td>2024-07-08</td>\n",
       "      <td>407b002c3c29</td>\n",
       "      <td>152.9</td>\n",
       "      <td>12</td>\n",
       "      <td>4</td>\n",
       "    </tr>\n",
       "    <tr>\n",
       "      <th>552918</th>\n",
       "      <td>1655933</td>\n",
       "      <td>2024-08-11</td>\n",
       "      <td>e432c7120c33</td>\n",
       "      <td>0.0</td>\n",
       "      <td>9999999999</td>\n",
       "      <td>3</td>\n",
       "    </tr>\n",
       "    <tr>\n",
       "      <th>580317</th>\n",
       "      <td>1766724</td>\n",
       "      <td>2023-05-06</td>\n",
       "      <td>3ac0b1c18f46</td>\n",
       "      <td>49.9</td>\n",
       "      <td>13</td>\n",
       "      <td>3</td>\n",
       "    </tr>\n",
       "    <tr>\n",
       "      <th>557429</th>\n",
       "      <td>1660444</td>\n",
       "      <td>2024-09-24</td>\n",
       "      <td>a3c5d4516606</td>\n",
       "      <td>99.9</td>\n",
       "      <td>1</td>\n",
       "      <td>3</td>\n",
       "    </tr>\n",
       "    <tr>\n",
       "      <th>23887</th>\n",
       "      <td>23887</td>\n",
       "      <td>2023-09-26</td>\n",
       "      <td>8c0ddd5e2074</td>\n",
       "      <td>0.0</td>\n",
       "      <td>1</td>\n",
       "      <td>1</td>\n",
       "    </tr>\n",
       "    <tr>\n",
       "      <th>517424</th>\n",
       "      <td>1620439</td>\n",
       "      <td>2023-11-17</td>\n",
       "      <td>4586b9f99126</td>\n",
       "      <td>23.9</td>\n",
       "      <td>7</td>\n",
       "      <td>3</td>\n",
       "    </tr>\n",
       "    <tr>\n",
       "      <th>572482</th>\n",
       "      <td>1758889</td>\n",
       "      <td>2023-02-03</td>\n",
       "      <td>f12a2c8085d2</td>\n",
       "      <td>64.9</td>\n",
       "      <td>1</td>\n",
       "      <td>3</td>\n",
       "    </tr>\n",
       "  </tbody>\n",
       "</table>\n",
       "</div>"
      ],
      "text/plain": [
       "        Unnamed: 0        date       item_id   price        code  store_id\n",
       "697459     1883866  2024-09-25  b1db3fa1a974   199.9           9         4\n",
       "35379        35379  2023-10-18  a2d871968596    63.9          12         1\n",
       "504347     1607362  2023-08-30  4bfdba2fc912  1299.9          26         3\n",
       "668835     1855242  2024-07-08  407b002c3c29   152.9          12         4\n",
       "552918     1655933  2024-08-11  e432c7120c33     0.0  9999999999         3\n",
       "580317     1766724  2023-05-06  3ac0b1c18f46    49.9          13         3\n",
       "557429     1660444  2024-09-24  a3c5d4516606    99.9           1         3\n",
       "23887        23887  2023-09-26  8c0ddd5e2074     0.0           1         1\n",
       "517424     1620439  2023-11-17  4586b9f99126    23.9           7         3\n",
       "572482     1758889  2023-02-03  f12a2c8085d2    64.9           1         3"
      ]
     },
     "execution_count": 147,
     "metadata": {},
     "output_type": "execute_result"
    }
   ],
   "source": [
    "df_price.sample(10)"
   ]
  },
  {
   "cell_type": "code",
   "execution_count": 148,
   "metadata": {},
   "outputs": [
    {
     "data": {
      "text/html": [
       "<div>\n",
       "<style scoped>\n",
       "    .dataframe tbody tr th:only-of-type {\n",
       "        vertical-align: middle;\n",
       "    }\n",
       "\n",
       "    .dataframe tbody tr th {\n",
       "        vertical-align: top;\n",
       "    }\n",
       "\n",
       "    .dataframe thead th {\n",
       "        text-align: right;\n",
       "    }\n",
       "</style>\n",
       "<table border=\"1\" class=\"dataframe\">\n",
       "  <thead>\n",
       "    <tr style=\"text-align: right;\">\n",
       "      <th></th>\n",
       "      <th>Unnamed: 0</th>\n",
       "      <th>date</th>\n",
       "      <th>item_id</th>\n",
       "      <th>sale_price_before_promo</th>\n",
       "      <th>sale_price_time_promo</th>\n",
       "      <th>promo_type_code</th>\n",
       "      <th>doc_id</th>\n",
       "      <th>number_disc_day</th>\n",
       "      <th>store_id</th>\n",
       "    </tr>\n",
       "  </thead>\n",
       "  <tbody>\n",
       "    <tr>\n",
       "      <th>0</th>\n",
       "      <td>3648316</td>\n",
       "      <td>2022-08-28</td>\n",
       "      <td>cde97a9ec3ef</td>\n",
       "      <td>729.9</td>\n",
       "      <td>669.9</td>\n",
       "      <td>6.0</td>\n",
       "      <td>89ea9f0c-1c08-11ed-ad4d-005056861040</td>\n",
       "      <td>13.0</td>\n",
       "      <td>1</td>\n",
       "    </tr>\n",
       "    <tr>\n",
       "      <th>1</th>\n",
       "      <td>3648317</td>\n",
       "      <td>2022-08-28</td>\n",
       "      <td>2906fbc9e11c</td>\n",
       "      <td>129.9</td>\n",
       "      <td>99.9</td>\n",
       "      <td>NaN</td>\n",
       "      <td>039e85df-1e51-11ed-ad4d-005056861040</td>\n",
       "      <td>11.0</td>\n",
       "      <td>1</td>\n",
       "    </tr>\n",
       "    <tr>\n",
       "      <th>2</th>\n",
       "      <td>3648318</td>\n",
       "      <td>2022-08-28</td>\n",
       "      <td>c48c3a3d8c01</td>\n",
       "      <td>129.9</td>\n",
       "      <td>99.9</td>\n",
       "      <td>NaN</td>\n",
       "      <td>039e85df-1e51-11ed-ad4d-005056861040</td>\n",
       "      <td>11.0</td>\n",
       "      <td>1</td>\n",
       "    </tr>\n",
       "    <tr>\n",
       "      <th>3</th>\n",
       "      <td>3648319</td>\n",
       "      <td>2022-08-28</td>\n",
       "      <td>f85243ca61e6</td>\n",
       "      <td>129.9</td>\n",
       "      <td>99.9</td>\n",
       "      <td>NaN</td>\n",
       "      <td>039e85df-1e51-11ed-ad4d-005056861040</td>\n",
       "      <td>11.0</td>\n",
       "      <td>1</td>\n",
       "    </tr>\n",
       "    <tr>\n",
       "      <th>4</th>\n",
       "      <td>3648320</td>\n",
       "      <td>2022-08-28</td>\n",
       "      <td>27ce75534065</td>\n",
       "      <td>129.9</td>\n",
       "      <td>99.9</td>\n",
       "      <td>NaN</td>\n",
       "      <td>039e85df-1e51-11ed-ad4d-005056861040</td>\n",
       "      <td>11.0</td>\n",
       "      <td>1</td>\n",
       "    </tr>\n",
       "  </tbody>\n",
       "</table>\n",
       "</div>"
      ],
      "text/plain": [
       "   Unnamed: 0        date       item_id  sale_price_before_promo  \\\n",
       "0     3648316  2022-08-28  cde97a9ec3ef                    729.9   \n",
       "1     3648317  2022-08-28  2906fbc9e11c                    129.9   \n",
       "2     3648318  2022-08-28  c48c3a3d8c01                    129.9   \n",
       "3     3648319  2022-08-28  f85243ca61e6                    129.9   \n",
       "4     3648320  2022-08-28  27ce75534065                    129.9   \n",
       "\n",
       "   sale_price_time_promo  promo_type_code  \\\n",
       "0                  669.9              6.0   \n",
       "1                   99.9              NaN   \n",
       "2                   99.9              NaN   \n",
       "3                   99.9              NaN   \n",
       "4                   99.9              NaN   \n",
       "\n",
       "                                 doc_id  number_disc_day  store_id  \n",
       "0  89ea9f0c-1c08-11ed-ad4d-005056861040             13.0         1  \n",
       "1  039e85df-1e51-11ed-ad4d-005056861040             11.0         1  \n",
       "2  039e85df-1e51-11ed-ad4d-005056861040             11.0         1  \n",
       "3  039e85df-1e51-11ed-ad4d-005056861040             11.0         1  \n",
       "4  039e85df-1e51-11ed-ad4d-005056861040             11.0         1  "
      ]
     },
     "execution_count": 148,
     "metadata": {},
     "output_type": "execute_result"
    }
   ],
   "source": [
    "df_discount.head()"
   ]
  },
  {
   "cell_type": "code",
   "execution_count": 149,
   "metadata": {},
   "outputs": [
    {
     "data": {
      "text/html": [
       "<div>\n",
       "<style scoped>\n",
       "    .dataframe tbody tr th:only-of-type {\n",
       "        vertical-align: middle;\n",
       "    }\n",
       "\n",
       "    .dataframe tbody tr th {\n",
       "        vertical-align: top;\n",
       "    }\n",
       "\n",
       "    .dataframe thead th {\n",
       "        text-align: right;\n",
       "    }\n",
       "</style>\n",
       "<table border=\"1\" class=\"dataframe\">\n",
       "  <thead>\n",
       "    <tr style=\"text-align: right;\">\n",
       "      <th></th>\n",
       "      <th>Unnamed: 0</th>\n",
       "      <th>date</th>\n",
       "      <th>item_id</th>\n",
       "      <th>sale_price_before_promo</th>\n",
       "      <th>sale_price_time_promo</th>\n",
       "      <th>promo_type_code</th>\n",
       "      <th>doc_id</th>\n",
       "      <th>number_disc_day</th>\n",
       "      <th>store_id</th>\n",
       "    </tr>\n",
       "  </thead>\n",
       "  <tbody>\n",
       "    <tr>\n",
       "      <th>3746739</th>\n",
       "      <td>11420928</td>\n",
       "      <td>2045-12-31</td>\n",
       "      <td>23b18d1f7da9</td>\n",
       "      <td>59.9</td>\n",
       "      <td>59.9</td>\n",
       "      <td>NaN</td>\n",
       "      <td>baa3d490-5529-11ed-bb91-005056afbcf1</td>\n",
       "      <td>8766.0</td>\n",
       "      <td>4</td>\n",
       "    </tr>\n",
       "    <tr>\n",
       "      <th>3746740</th>\n",
       "      <td>11420929</td>\n",
       "      <td>2045-12-31</td>\n",
       "      <td>e5b2b6f57ea7</td>\n",
       "      <td>59.9</td>\n",
       "      <td>59.9</td>\n",
       "      <td>NaN</td>\n",
       "      <td>baa3d490-5529-11ed-bb91-005056afbcf1</td>\n",
       "      <td>8766.0</td>\n",
       "      <td>4</td>\n",
       "    </tr>\n",
       "    <tr>\n",
       "      <th>3746741</th>\n",
       "      <td>11420930</td>\n",
       "      <td>2045-12-31</td>\n",
       "      <td>2c007023f650</td>\n",
       "      <td>59.9</td>\n",
       "      <td>59.9</td>\n",
       "      <td>NaN</td>\n",
       "      <td>baa3d490-5529-11ed-bb91-005056afbcf1</td>\n",
       "      <td>8766.0</td>\n",
       "      <td>4</td>\n",
       "    </tr>\n",
       "    <tr>\n",
       "      <th>3746742</th>\n",
       "      <td>11420931</td>\n",
       "      <td>2045-12-31</td>\n",
       "      <td>9f716dce9a57</td>\n",
       "      <td>59.9</td>\n",
       "      <td>59.9</td>\n",
       "      <td>NaN</td>\n",
       "      <td>baa3d490-5529-11ed-bb91-005056afbcf1</td>\n",
       "      <td>8766.0</td>\n",
       "      <td>4</td>\n",
       "    </tr>\n",
       "    <tr>\n",
       "      <th>3746743</th>\n",
       "      <td>11420932</td>\n",
       "      <td>2045-12-31</td>\n",
       "      <td>99d388c37359</td>\n",
       "      <td>59.9</td>\n",
       "      <td>59.9</td>\n",
       "      <td>NaN</td>\n",
       "      <td>baa3d490-5529-11ed-bb91-005056afbcf1</td>\n",
       "      <td>8766.0</td>\n",
       "      <td>4</td>\n",
       "    </tr>\n",
       "  </tbody>\n",
       "</table>\n",
       "</div>"
      ],
      "text/plain": [
       "         Unnamed: 0        date       item_id  sale_price_before_promo  \\\n",
       "3746739    11420928  2045-12-31  23b18d1f7da9                     59.9   \n",
       "3746740    11420929  2045-12-31  e5b2b6f57ea7                     59.9   \n",
       "3746741    11420930  2045-12-31  2c007023f650                     59.9   \n",
       "3746742    11420931  2045-12-31  9f716dce9a57                     59.9   \n",
       "3746743    11420932  2045-12-31  99d388c37359                     59.9   \n",
       "\n",
       "         sale_price_time_promo  promo_type_code  \\\n",
       "3746739                   59.9              NaN   \n",
       "3746740                   59.9              NaN   \n",
       "3746741                   59.9              NaN   \n",
       "3746742                   59.9              NaN   \n",
       "3746743                   59.9              NaN   \n",
       "\n",
       "                                       doc_id  number_disc_day  store_id  \n",
       "3746739  baa3d490-5529-11ed-bb91-005056afbcf1           8766.0         4  \n",
       "3746740  baa3d490-5529-11ed-bb91-005056afbcf1           8766.0         4  \n",
       "3746741  baa3d490-5529-11ed-bb91-005056afbcf1           8766.0         4  \n",
       "3746742  baa3d490-5529-11ed-bb91-005056afbcf1           8766.0         4  \n",
       "3746743  baa3d490-5529-11ed-bb91-005056afbcf1           8766.0         4  "
      ]
     },
     "execution_count": 149,
     "metadata": {},
     "output_type": "execute_result"
    }
   ],
   "source": [
    "df_discount.tail()"
   ]
  },
  {
   "cell_type": "code",
   "execution_count": 150,
   "metadata": {},
   "outputs": [
    {
     "data": {
      "text/html": [
       "<div>\n",
       "<style scoped>\n",
       "    .dataframe tbody tr th:only-of-type {\n",
       "        vertical-align: middle;\n",
       "    }\n",
       "\n",
       "    .dataframe tbody tr th {\n",
       "        vertical-align: top;\n",
       "    }\n",
       "\n",
       "    .dataframe thead th {\n",
       "        text-align: right;\n",
       "    }\n",
       "</style>\n",
       "<table border=\"1\" class=\"dataframe\">\n",
       "  <thead>\n",
       "    <tr style=\"text-align: right;\">\n",
       "      <th></th>\n",
       "      <th>Unnamed: 0</th>\n",
       "      <th>date</th>\n",
       "      <th>item_id</th>\n",
       "      <th>sale_price_before_promo</th>\n",
       "      <th>sale_price_time_promo</th>\n",
       "      <th>promo_type_code</th>\n",
       "      <th>doc_id</th>\n",
       "      <th>number_disc_day</th>\n",
       "      <th>store_id</th>\n",
       "    </tr>\n",
       "  </thead>\n",
       "  <tbody>\n",
       "    <tr>\n",
       "      <th>2323919</th>\n",
       "      <td>7972761</td>\n",
       "      <td>2024-05-13</td>\n",
       "      <td>8c700aaab569</td>\n",
       "      <td>139.9</td>\n",
       "      <td>109.9</td>\n",
       "      <td>5.0</td>\n",
       "      <td>89aa7941-0b82-11ef-bb94-005056afbcf1</td>\n",
       "      <td>7.0</td>\n",
       "      <td>2</td>\n",
       "    </tr>\n",
       "    <tr>\n",
       "      <th>2450062</th>\n",
       "      <td>8098904</td>\n",
       "      <td>2024-09-07</td>\n",
       "      <td>2ed442e5d3a9</td>\n",
       "      <td>129.9</td>\n",
       "      <td>103.9</td>\n",
       "      <td>6.0</td>\n",
       "      <td>0cb2caac-644e-11ef-bb94-005056afbcf1</td>\n",
       "      <td>10.0</td>\n",
       "      <td>2</td>\n",
       "    </tr>\n",
       "    <tr>\n",
       "      <th>972128</th>\n",
       "      <td>4620444</td>\n",
       "      <td>2023-10-19</td>\n",
       "      <td>f85712f9ba82</td>\n",
       "      <td>1399.9</td>\n",
       "      <td>999.9</td>\n",
       "      <td>5.0</td>\n",
       "      <td>5c1a71c5-68d3-11ee-bb94-005056afbcf1</td>\n",
       "      <td>8.0</td>\n",
       "      <td>1</td>\n",
       "    </tr>\n",
       "    <tr>\n",
       "      <th>1665378</th>\n",
       "      <td>5313694</td>\n",
       "      <td>2024-09-25</td>\n",
       "      <td>0b31a265d43e</td>\n",
       "      <td>529.9</td>\n",
       "      <td>499.9</td>\n",
       "      <td>5.0</td>\n",
       "      <td>45e0c4c5-7b0f-11ef-bb95-005056afbcf1</td>\n",
       "      <td>1.0</td>\n",
       "      <td>1</td>\n",
       "    </tr>\n",
       "    <tr>\n",
       "      <th>2838352</th>\n",
       "      <td>10505755</td>\n",
       "      <td>2024-03-24</td>\n",
       "      <td>484f531afe97</td>\n",
       "      <td>384.9</td>\n",
       "      <td>199.9</td>\n",
       "      <td>5.0</td>\n",
       "      <td>9fa8a227-e10f-11ee-bb94-005056afbcf1</td>\n",
       "      <td>12.0</td>\n",
       "      <td>3</td>\n",
       "    </tr>\n",
       "    <tr>\n",
       "      <th>2878125</th>\n",
       "      <td>10545528</td>\n",
       "      <td>2024-05-14</td>\n",
       "      <td>055c740a4c62</td>\n",
       "      <td>479.9</td>\n",
       "      <td>399.9</td>\n",
       "      <td>6.0</td>\n",
       "      <td>da9d2965-0bc4-11ef-bb94-005056afbcf1</td>\n",
       "      <td>8.0</td>\n",
       "      <td>3</td>\n",
       "    </tr>\n",
       "    <tr>\n",
       "      <th>2284012</th>\n",
       "      <td>7932854</td>\n",
       "      <td>2024-04-06</td>\n",
       "      <td>56a85ccaad0e</td>\n",
       "      <td>209.9</td>\n",
       "      <td>209.9</td>\n",
       "      <td>5.0</td>\n",
       "      <td>874871ac-ec2c-11ee-bb94-005056afbcf1</td>\n",
       "      <td>10.0</td>\n",
       "      <td>2</td>\n",
       "    </tr>\n",
       "    <tr>\n",
       "      <th>2732255</th>\n",
       "      <td>10399658</td>\n",
       "      <td>2023-10-10</td>\n",
       "      <td>dd9d652825c8</td>\n",
       "      <td>129.9</td>\n",
       "      <td>129.9</td>\n",
       "      <td>5.0</td>\n",
       "      <td>2ce2f748-5d46-11ee-bb94-005056afbcf1</td>\n",
       "      <td>13.0</td>\n",
       "      <td>3</td>\n",
       "    </tr>\n",
       "    <tr>\n",
       "      <th>3527820</th>\n",
       "      <td>11202009</td>\n",
       "      <td>2024-07-20</td>\n",
       "      <td>02feb2cf88b5</td>\n",
       "      <td>119.9</td>\n",
       "      <td>119.9</td>\n",
       "      <td>5.0</td>\n",
       "      <td>f3ed398f-4465-11ef-bb94-005056afbcf1</td>\n",
       "      <td>3.0</td>\n",
       "      <td>4</td>\n",
       "    </tr>\n",
       "    <tr>\n",
       "      <th>2918641</th>\n",
       "      <td>10586044</td>\n",
       "      <td>2024-07-03</td>\n",
       "      <td>3c723caca8df</td>\n",
       "      <td>74.9</td>\n",
       "      <td>54.9</td>\n",
       "      <td>6.0</td>\n",
       "      <td>2a72b99b-2e6c-11ef-bb94-005056afbcf1</td>\n",
       "      <td>14.0</td>\n",
       "      <td>3</td>\n",
       "    </tr>\n",
       "  </tbody>\n",
       "</table>\n",
       "</div>"
      ],
      "text/plain": [
       "         Unnamed: 0        date       item_id  sale_price_before_promo  \\\n",
       "2323919     7972761  2024-05-13  8c700aaab569                    139.9   \n",
       "2450062     8098904  2024-09-07  2ed442e5d3a9                    129.9   \n",
       "972128      4620444  2023-10-19  f85712f9ba82                   1399.9   \n",
       "1665378     5313694  2024-09-25  0b31a265d43e                    529.9   \n",
       "2838352    10505755  2024-03-24  484f531afe97                    384.9   \n",
       "2878125    10545528  2024-05-14  055c740a4c62                    479.9   \n",
       "2284012     7932854  2024-04-06  56a85ccaad0e                    209.9   \n",
       "2732255    10399658  2023-10-10  dd9d652825c8                    129.9   \n",
       "3527820    11202009  2024-07-20  02feb2cf88b5                    119.9   \n",
       "2918641    10586044  2024-07-03  3c723caca8df                     74.9   \n",
       "\n",
       "         sale_price_time_promo  promo_type_code  \\\n",
       "2323919                  109.9              5.0   \n",
       "2450062                  103.9              6.0   \n",
       "972128                   999.9              5.0   \n",
       "1665378                  499.9              5.0   \n",
       "2838352                  199.9              5.0   \n",
       "2878125                  399.9              6.0   \n",
       "2284012                  209.9              5.0   \n",
       "2732255                  129.9              5.0   \n",
       "3527820                  119.9              5.0   \n",
       "2918641                   54.9              6.0   \n",
       "\n",
       "                                       doc_id  number_disc_day  store_id  \n",
       "2323919  89aa7941-0b82-11ef-bb94-005056afbcf1              7.0         2  \n",
       "2450062  0cb2caac-644e-11ef-bb94-005056afbcf1             10.0         2  \n",
       "972128   5c1a71c5-68d3-11ee-bb94-005056afbcf1              8.0         1  \n",
       "1665378  45e0c4c5-7b0f-11ef-bb95-005056afbcf1              1.0         1  \n",
       "2838352  9fa8a227-e10f-11ee-bb94-005056afbcf1             12.0         3  \n",
       "2878125  da9d2965-0bc4-11ef-bb94-005056afbcf1              8.0         3  \n",
       "2284012  874871ac-ec2c-11ee-bb94-005056afbcf1             10.0         2  \n",
       "2732255  2ce2f748-5d46-11ee-bb94-005056afbcf1             13.0         3  \n",
       "3527820  f3ed398f-4465-11ef-bb94-005056afbcf1              3.0         4  \n",
       "2918641  2a72b99b-2e6c-11ef-bb94-005056afbcf1             14.0         3  "
      ]
     },
     "execution_count": 150,
     "metadata": {},
     "output_type": "execute_result"
    }
   ],
   "source": [
    "df_discount.sample(10)"
   ]
  },
  {
   "cell_type": "code",
   "execution_count": 151,
   "metadata": {},
   "outputs": [
    {
     "data": {
      "text/plain": [
       "Unnamed: 0    0\n",
       "date          0\n",
       "item_id       0\n",
       "price         0\n",
       "code          0\n",
       "store_id      0\n",
       "dtype: int64"
      ]
     },
     "execution_count": 151,
     "metadata": {},
     "output_type": "execute_result"
    }
   ],
   "source": [
    "df_price.isnull().sum()"
   ]
  },
  {
   "cell_type": "code",
   "execution_count": 152,
   "metadata": {
    "id": "-qfcocStzsKg"
   },
   "outputs": [
    {
     "data": {
      "text/plain": [
       "Unnamed: 0                      0\n",
       "date                            0\n",
       "item_id                         0\n",
       "sale_price_before_promo         0\n",
       "sale_price_time_promo           0\n",
       "promo_type_code            317846\n",
       "doc_id                          0\n",
       "number_disc_day                 0\n",
       "store_id                        0\n",
       "dtype: int64"
      ]
     },
     "execution_count": 152,
     "metadata": {},
     "output_type": "execute_result"
    }
   ],
   "source": [
    "df_discount.isnull().sum()"
   ]
  },
  {
   "cell_type": "markdown",
   "metadata": {},
   "source": [
    "### Completeness Summary\n",
    "\n",
    "* We found 317846 null values in promo_type_code column in the discount_history data set "
   ]
  },
  {
   "cell_type": "markdown",
   "metadata": {},
   "source": [
    "### Validity:"
   ]
  },
  {
   "cell_type": "code",
   "execution_count": 153,
   "metadata": {},
   "outputs": [
    {
     "data": {
      "text/html": [
       "<div>\n",
       "<style scoped>\n",
       "    .dataframe tbody tr th:only-of-type {\n",
       "        vertical-align: middle;\n",
       "    }\n",
       "\n",
       "    .dataframe tbody tr th {\n",
       "        vertical-align: top;\n",
       "    }\n",
       "\n",
       "    .dataframe thead th {\n",
       "        text-align: right;\n",
       "    }\n",
       "</style>\n",
       "<table border=\"1\" class=\"dataframe\">\n",
       "  <thead>\n",
       "    <tr style=\"text-align: right;\">\n",
       "      <th></th>\n",
       "      <th>Unnamed: 0</th>\n",
       "      <th>date</th>\n",
       "      <th>item_id</th>\n",
       "      <th>price</th>\n",
       "      <th>code</th>\n",
       "      <th>store_id</th>\n",
       "    </tr>\n",
       "  </thead>\n",
       "  <tbody>\n",
       "    <tr>\n",
       "      <th>564106</th>\n",
       "      <td>1750513</td>\n",
       "      <td>2022-11-07</td>\n",
       "      <td>13939303b8d6</td>\n",
       "      <td>69.9</td>\n",
       "      <td>1</td>\n",
       "      <td>3</td>\n",
       "    </tr>\n",
       "    <tr>\n",
       "      <th>167179</th>\n",
       "      <td>167179</td>\n",
       "      <td>2024-09-24</td>\n",
       "      <td>2bf5a78f21d9</td>\n",
       "      <td>709.9</td>\n",
       "      <td>10</td>\n",
       "      <td>1</td>\n",
       "    </tr>\n",
       "    <tr>\n",
       "      <th>489051</th>\n",
       "      <td>1455808</td>\n",
       "      <td>2023-07-19</td>\n",
       "      <td>4d83137d656a</td>\n",
       "      <td>349.0</td>\n",
       "      <td>1</td>\n",
       "      <td>2</td>\n",
       "    </tr>\n",
       "    <tr>\n",
       "      <th>151572</th>\n",
       "      <td>151572</td>\n",
       "      <td>2024-08-11</td>\n",
       "      <td>545bce1dd6d3</td>\n",
       "      <td>278.9</td>\n",
       "      <td>7</td>\n",
       "      <td>1</td>\n",
       "    </tr>\n",
       "    <tr>\n",
       "      <th>2814</th>\n",
       "      <td>2814</td>\n",
       "      <td>2023-08-03</td>\n",
       "      <td>faf30cade649</td>\n",
       "      <td>0.0</td>\n",
       "      <td>1</td>\n",
       "      <td>1</td>\n",
       "    </tr>\n",
       "  </tbody>\n",
       "</table>\n",
       "</div>"
      ],
      "text/plain": [
       "        Unnamed: 0        date       item_id  price  code  store_id\n",
       "564106     1750513  2022-11-07  13939303b8d6   69.9     1         3\n",
       "167179      167179  2024-09-24  2bf5a78f21d9  709.9    10         1\n",
       "489051     1455808  2023-07-19  4d83137d656a  349.0     1         2\n",
       "151572      151572  2024-08-11  545bce1dd6d3  278.9     7         1\n",
       "2814          2814  2023-08-03  faf30cade649    0.0     1         1"
      ]
     },
     "execution_count": 153,
     "metadata": {},
     "output_type": "execute_result"
    }
   ],
   "source": [
    "df_price.sample(5)"
   ]
  },
  {
   "cell_type": "code",
   "execution_count": 154,
   "metadata": {},
   "outputs": [
    {
     "data": {
      "text/html": [
       "<div>\n",
       "<style scoped>\n",
       "    .dataframe tbody tr th:only-of-type {\n",
       "        vertical-align: middle;\n",
       "    }\n",
       "\n",
       "    .dataframe tbody tr th {\n",
       "        vertical-align: top;\n",
       "    }\n",
       "\n",
       "    .dataframe thead th {\n",
       "        text-align: right;\n",
       "    }\n",
       "</style>\n",
       "<table border=\"1\" class=\"dataframe\">\n",
       "  <thead>\n",
       "    <tr style=\"text-align: right;\">\n",
       "      <th></th>\n",
       "      <th>Unnamed: 0</th>\n",
       "      <th>date</th>\n",
       "      <th>item_id</th>\n",
       "      <th>sale_price_before_promo</th>\n",
       "      <th>sale_price_time_promo</th>\n",
       "      <th>promo_type_code</th>\n",
       "      <th>doc_id</th>\n",
       "      <th>number_disc_day</th>\n",
       "      <th>store_id</th>\n",
       "    </tr>\n",
       "  </thead>\n",
       "  <tbody>\n",
       "    <tr>\n",
       "      <th>3088633</th>\n",
       "      <td>10762822</td>\n",
       "      <td>2023-12-16</td>\n",
       "      <td>e2849c4e84ed</td>\n",
       "      <td>199.9</td>\n",
       "      <td>169.9</td>\n",
       "      <td>6.0</td>\n",
       "      <td>e26fccca-934e-11ee-bb94-005056afbcf1</td>\n",
       "      <td>10.0</td>\n",
       "      <td>4</td>\n",
       "    </tr>\n",
       "    <tr>\n",
       "      <th>2468322</th>\n",
       "      <td>8117164</td>\n",
       "      <td>2024-09-24</td>\n",
       "      <td>1b66559875e1</td>\n",
       "      <td>139.9</td>\n",
       "      <td>139.9</td>\n",
       "      <td>6.0</td>\n",
       "      <td>1e419593-7068-11ef-bb94-005056afbcf1</td>\n",
       "      <td>13.0</td>\n",
       "      <td>2</td>\n",
       "    </tr>\n",
       "    <tr>\n",
       "      <th>132714</th>\n",
       "      <td>3781030</td>\n",
       "      <td>2022-10-29</td>\n",
       "      <td>ad9f4fbd5e95</td>\n",
       "      <td>349.9</td>\n",
       "      <td>269.9</td>\n",
       "      <td>6.0</td>\n",
       "      <td>130b1a16-5559-11ed-bb91-005056afbcf1</td>\n",
       "      <td>3.0</td>\n",
       "      <td>1</td>\n",
       "    </tr>\n",
       "    <tr>\n",
       "      <th>1796289</th>\n",
       "      <td>7445131</td>\n",
       "      <td>2022-10-14</td>\n",
       "      <td>8c6557f8a766</td>\n",
       "      <td>69.9</td>\n",
       "      <td>59.9</td>\n",
       "      <td>6.0</td>\n",
       "      <td>acfdae10-4a36-11ed-ad4d-005056861040</td>\n",
       "      <td>2.0</td>\n",
       "      <td>2</td>\n",
       "    </tr>\n",
       "    <tr>\n",
       "      <th>1973201</th>\n",
       "      <td>7622043</td>\n",
       "      <td>2023-04-23</td>\n",
       "      <td>5a648d858c93</td>\n",
       "      <td>1399.9</td>\n",
       "      <td>1099.9</td>\n",
       "      <td>5.0</td>\n",
       "      <td>1bfe08c8-d7bb-11ed-bb93-005056afbcf1</td>\n",
       "      <td>13.0</td>\n",
       "      <td>2</td>\n",
       "    </tr>\n",
       "  </tbody>\n",
       "</table>\n",
       "</div>"
      ],
      "text/plain": [
       "         Unnamed: 0        date       item_id  sale_price_before_promo  \\\n",
       "3088633    10762822  2023-12-16  e2849c4e84ed                    199.9   \n",
       "2468322     8117164  2024-09-24  1b66559875e1                    139.9   \n",
       "132714      3781030  2022-10-29  ad9f4fbd5e95                    349.9   \n",
       "1796289     7445131  2022-10-14  8c6557f8a766                     69.9   \n",
       "1973201     7622043  2023-04-23  5a648d858c93                   1399.9   \n",
       "\n",
       "         sale_price_time_promo  promo_type_code  \\\n",
       "3088633                  169.9              6.0   \n",
       "2468322                  139.9              6.0   \n",
       "132714                   269.9              6.0   \n",
       "1796289                   59.9              6.0   \n",
       "1973201                 1099.9              5.0   \n",
       "\n",
       "                                       doc_id  number_disc_day  store_id  \n",
       "3088633  e26fccca-934e-11ee-bb94-005056afbcf1             10.0         4  \n",
       "2468322  1e419593-7068-11ef-bb94-005056afbcf1             13.0         2  \n",
       "132714   130b1a16-5559-11ed-bb91-005056afbcf1              3.0         1  \n",
       "1796289  acfdae10-4a36-11ed-ad4d-005056861040              2.0         2  \n",
       "1973201  1bfe08c8-d7bb-11ed-bb93-005056afbcf1             13.0         2  "
      ]
     },
     "execution_count": 154,
     "metadata": {},
     "output_type": "execute_result"
    }
   ],
   "source": [
    "df_discount.sample(5)"
   ]
  },
  {
   "cell_type": "code",
   "execution_count": 155,
   "metadata": {},
   "outputs": [
    {
     "data": {
      "text/plain": [
       "Unnamed: 0      int64\n",
       "date           object\n",
       "item_id        object\n",
       "price         float64\n",
       "code            int64\n",
       "store_id        int64\n",
       "dtype: object"
      ]
     },
     "execution_count": 155,
     "metadata": {},
     "output_type": "execute_result"
    }
   ],
   "source": [
    "df_price.dtypes"
   ]
  },
  {
   "cell_type": "code",
   "execution_count": 156,
   "metadata": {},
   "outputs": [
    {
     "data": {
      "text/plain": [
       "Unnamed: 0                   int64\n",
       "date                        object\n",
       "item_id                     object\n",
       "sale_price_before_promo    float64\n",
       "sale_price_time_promo      float64\n",
       "promo_type_code            float64\n",
       "doc_id                      object\n",
       "number_disc_day            float64\n",
       "store_id                     int64\n",
       "dtype: object"
      ]
     },
     "execution_count": 156,
     "metadata": {},
     "output_type": "execute_result"
    }
   ],
   "source": [
    "df_discount.dtypes"
   ]
  },
  {
   "cell_type": "markdown",
   "metadata": {},
   "source": [
    "### validity summary\n",
    " - We found inconsistent data types in the date column, which is stored as an object instead of a datetime type, affecting date-based operations and analysis.\n",
    "\n",
    "\n",
    "\n",
    "\n",
    "\n"
   ]
  },
  {
   "cell_type": "markdown",
   "metadata": {
    "id": "8Be77N4I1AmE"
   },
   "source": [
    "### Duplicates:"
   ]
  },
  {
   "cell_type": "code",
   "execution_count": 157,
   "metadata": {
    "id": "iMhHyiyLM2I3"
   },
   "outputs": [
    {
     "data": {
      "text/html": [
       "<div>\n",
       "<style scoped>\n",
       "    .dataframe tbody tr th:only-of-type {\n",
       "        vertical-align: middle;\n",
       "    }\n",
       "\n",
       "    .dataframe tbody tr th {\n",
       "        vertical-align: top;\n",
       "    }\n",
       "\n",
       "    .dataframe thead th {\n",
       "        text-align: right;\n",
       "    }\n",
       "</style>\n",
       "<table border=\"1\" class=\"dataframe\">\n",
       "  <thead>\n",
       "    <tr style=\"text-align: right;\">\n",
       "      <th></th>\n",
       "      <th>Unnamed: 0</th>\n",
       "      <th>date</th>\n",
       "      <th>item_id</th>\n",
       "      <th>sale_price_before_promo</th>\n",
       "      <th>sale_price_time_promo</th>\n",
       "      <th>promo_type_code</th>\n",
       "      <th>doc_id</th>\n",
       "      <th>number_disc_day</th>\n",
       "      <th>store_id</th>\n",
       "    </tr>\n",
       "  </thead>\n",
       "  <tbody>\n",
       "    <tr>\n",
       "      <th>1021671</th>\n",
       "      <td>4669987</td>\n",
       "      <td>2023-11-25</td>\n",
       "      <td>17db969af01e</td>\n",
       "      <td>159.9</td>\n",
       "      <td>159.9</td>\n",
       "      <td>5.0</td>\n",
       "      <td>51fe30e4-8944-11ee-bb94-005056afbcf1</td>\n",
       "      <td>3.0</td>\n",
       "      <td>1</td>\n",
       "    </tr>\n",
       "    <tr>\n",
       "      <th>2622297</th>\n",
       "      <td>10289700</td>\n",
       "      <td>2023-02-06</td>\n",
       "      <td>b42301424cda</td>\n",
       "      <td>58.9</td>\n",
       "      <td>41.9</td>\n",
       "      <td>NaN</td>\n",
       "      <td>c409773c-a2a2-11ed-bb93-005056afbcf1</td>\n",
       "      <td>5.0</td>\n",
       "      <td>3</td>\n",
       "    </tr>\n",
       "    <tr>\n",
       "      <th>3380200</th>\n",
       "      <td>11054389</td>\n",
       "      <td>2024-05-11</td>\n",
       "      <td>1749a901cf31</td>\n",
       "      <td>129.9</td>\n",
       "      <td>129.9</td>\n",
       "      <td>5.0</td>\n",
       "      <td>1e5c9f10-0b7d-11ef-bb94-005056afbcf1</td>\n",
       "      <td>6.0</td>\n",
       "      <td>4</td>\n",
       "    </tr>\n",
       "    <tr>\n",
       "      <th>2439604</th>\n",
       "      <td>8088446</td>\n",
       "      <td>2024-08-29</td>\n",
       "      <td>7d0484487365</td>\n",
       "      <td>109.9</td>\n",
       "      <td>109.9</td>\n",
       "      <td>5.0</td>\n",
       "      <td>8e57a642-6505-11ef-bb94-005056afbcf1</td>\n",
       "      <td>2.0</td>\n",
       "      <td>2</td>\n",
       "    </tr>\n",
       "    <tr>\n",
       "      <th>766085</th>\n",
       "      <td>4414401</td>\n",
       "      <td>2023-07-06</td>\n",
       "      <td>15e14433099e</td>\n",
       "      <td>32.9</td>\n",
       "      <td>22.9</td>\n",
       "      <td>6.0</td>\n",
       "      <td>9e905c9e-1b51-11ee-bb93-005056afbcf1</td>\n",
       "      <td>1.0</td>\n",
       "      <td>1</td>\n",
       "    </tr>\n",
       "    <tr>\n",
       "      <th>1847614</th>\n",
       "      <td>7496456</td>\n",
       "      <td>2022-12-15</td>\n",
       "      <td>178e2e57ca04</td>\n",
       "      <td>199.9</td>\n",
       "      <td>99.9</td>\n",
       "      <td>5.0</td>\n",
       "      <td>d6e4c867-7651-11ed-bb93-005056afbcf1</td>\n",
       "      <td>3.0</td>\n",
       "      <td>2</td>\n",
       "    </tr>\n",
       "    <tr>\n",
       "      <th>1405156</th>\n",
       "      <td>5053472</td>\n",
       "      <td>2024-06-01</td>\n",
       "      <td>cbd4e396f52f</td>\n",
       "      <td>69.9</td>\n",
       "      <td>59.9</td>\n",
       "      <td>6.0</td>\n",
       "      <td>6e1932d3-175d-11ef-bb94-005056afbcf1</td>\n",
       "      <td>10.0</td>\n",
       "      <td>1</td>\n",
       "    </tr>\n",
       "    <tr>\n",
       "      <th>2472217</th>\n",
       "      <td>8121059</td>\n",
       "      <td>2024-09-28</td>\n",
       "      <td>fb19bf9db041</td>\n",
       "      <td>490.0</td>\n",
       "      <td>319.9</td>\n",
       "      <td>5.0</td>\n",
       "      <td>2444d80c-604e-11ef-bb94-005056afbcf1</td>\n",
       "      <td>38.0</td>\n",
       "      <td>2</td>\n",
       "    </tr>\n",
       "    <tr>\n",
       "      <th>2959873</th>\n",
       "      <td>10627276</td>\n",
       "      <td>2024-08-27</td>\n",
       "      <td>53a01aa38e9b</td>\n",
       "      <td>0.0</td>\n",
       "      <td>199.9</td>\n",
       "      <td>5.0</td>\n",
       "      <td>1107b99e-5ad5-11ef-bb94-005056afbcf1</td>\n",
       "      <td>13.0</td>\n",
       "      <td>3</td>\n",
       "    </tr>\n",
       "    <tr>\n",
       "      <th>3722249</th>\n",
       "      <td>11396438</td>\n",
       "      <td>2034-10-28</td>\n",
       "      <td>2c007023f650</td>\n",
       "      <td>59.9</td>\n",
       "      <td>59.9</td>\n",
       "      <td>NaN</td>\n",
       "      <td>baa3d490-5529-11ed-bb91-005056afbcf1</td>\n",
       "      <td>4684.0</td>\n",
       "      <td>4</td>\n",
       "    </tr>\n",
       "  </tbody>\n",
       "</table>\n",
       "</div>"
      ],
      "text/plain": [
       "         Unnamed: 0        date       item_id  sale_price_before_promo  \\\n",
       "1021671     4669987  2023-11-25  17db969af01e                    159.9   \n",
       "2622297    10289700  2023-02-06  b42301424cda                     58.9   \n",
       "3380200    11054389  2024-05-11  1749a901cf31                    129.9   \n",
       "2439604     8088446  2024-08-29  7d0484487365                    109.9   \n",
       "766085      4414401  2023-07-06  15e14433099e                     32.9   \n",
       "1847614     7496456  2022-12-15  178e2e57ca04                    199.9   \n",
       "1405156     5053472  2024-06-01  cbd4e396f52f                     69.9   \n",
       "2472217     8121059  2024-09-28  fb19bf9db041                    490.0   \n",
       "2959873    10627276  2024-08-27  53a01aa38e9b                      0.0   \n",
       "3722249    11396438  2034-10-28  2c007023f650                     59.9   \n",
       "\n",
       "         sale_price_time_promo  promo_type_code  \\\n",
       "1021671                  159.9              5.0   \n",
       "2622297                   41.9              NaN   \n",
       "3380200                  129.9              5.0   \n",
       "2439604                  109.9              5.0   \n",
       "766085                    22.9              6.0   \n",
       "1847614                   99.9              5.0   \n",
       "1405156                   59.9              6.0   \n",
       "2472217                  319.9              5.0   \n",
       "2959873                  199.9              5.0   \n",
       "3722249                   59.9              NaN   \n",
       "\n",
       "                                       doc_id  number_disc_day  store_id  \n",
       "1021671  51fe30e4-8944-11ee-bb94-005056afbcf1              3.0         1  \n",
       "2622297  c409773c-a2a2-11ed-bb93-005056afbcf1              5.0         3  \n",
       "3380200  1e5c9f10-0b7d-11ef-bb94-005056afbcf1              6.0         4  \n",
       "2439604  8e57a642-6505-11ef-bb94-005056afbcf1              2.0         2  \n",
       "766085   9e905c9e-1b51-11ee-bb93-005056afbcf1              1.0         1  \n",
       "1847614  d6e4c867-7651-11ed-bb93-005056afbcf1              3.0         2  \n",
       "1405156  6e1932d3-175d-11ef-bb94-005056afbcf1             10.0         1  \n",
       "2472217  2444d80c-604e-11ef-bb94-005056afbcf1             38.0         2  \n",
       "2959873  1107b99e-5ad5-11ef-bb94-005056afbcf1             13.0         3  \n",
       "3722249  baa3d490-5529-11ed-bb91-005056afbcf1           4684.0         4  "
      ]
     },
     "execution_count": 157,
     "metadata": {},
     "output_type": "execute_result"
    }
   ],
   "source": [
    "df_discount.sample(10)"
   ]
  },
  {
   "cell_type": "code",
   "execution_count": 158,
   "metadata": {},
   "outputs": [
    {
     "data": {
      "text/html": [
       "<div>\n",
       "<style scoped>\n",
       "    .dataframe tbody tr th:only-of-type {\n",
       "        vertical-align: middle;\n",
       "    }\n",
       "\n",
       "    .dataframe tbody tr th {\n",
       "        vertical-align: top;\n",
       "    }\n",
       "\n",
       "    .dataframe thead th {\n",
       "        text-align: right;\n",
       "    }\n",
       "</style>\n",
       "<table border=\"1\" class=\"dataframe\">\n",
       "  <thead>\n",
       "    <tr style=\"text-align: right;\">\n",
       "      <th></th>\n",
       "      <th>Unnamed: 0</th>\n",
       "      <th>date</th>\n",
       "      <th>item_id</th>\n",
       "      <th>price</th>\n",
       "      <th>code</th>\n",
       "      <th>store_id</th>\n",
       "    </tr>\n",
       "  </thead>\n",
       "  <tbody>\n",
       "    <tr>\n",
       "      <th>317682</th>\n",
       "      <td>791659</td>\n",
       "      <td>2023-07-24</td>\n",
       "      <td>2040c15d35b9</td>\n",
       "      <td>29.9</td>\n",
       "      <td>7</td>\n",
       "      <td>1</td>\n",
       "    </tr>\n",
       "    <tr>\n",
       "      <th>546915</th>\n",
       "      <td>1649930</td>\n",
       "      <td>2024-06-17</td>\n",
       "      <td>1ceadc84aac9</td>\n",
       "      <td>0.0</td>\n",
       "      <td>7</td>\n",
       "      <td>3</td>\n",
       "    </tr>\n",
       "    <tr>\n",
       "      <th>163191</th>\n",
       "      <td>163191</td>\n",
       "      <td>2024-09-11</td>\n",
       "      <td>cde2a453130b</td>\n",
       "      <td>439.9</td>\n",
       "      <td>35</td>\n",
       "      <td>1</td>\n",
       "    </tr>\n",
       "    <tr>\n",
       "      <th>598666</th>\n",
       "      <td>1785073</td>\n",
       "      <td>2024-01-08</td>\n",
       "      <td>fc29adcfdf7e</td>\n",
       "      <td>1099.9</td>\n",
       "      <td>9</td>\n",
       "      <td>4</td>\n",
       "    </tr>\n",
       "    <tr>\n",
       "      <th>100699</th>\n",
       "      <td>100699</td>\n",
       "      <td>2024-03-24</td>\n",
       "      <td>260ee497efc6</td>\n",
       "      <td>67.9</td>\n",
       "      <td>12</td>\n",
       "      <td>1</td>\n",
       "    </tr>\n",
       "    <tr>\n",
       "      <th>412058</th>\n",
       "      <td>1124294</td>\n",
       "      <td>2024-08-08</td>\n",
       "      <td>a80d3c70c72c</td>\n",
       "      <td>139.9</td>\n",
       "      <td>1</td>\n",
       "      <td>2</td>\n",
       "    </tr>\n",
       "    <tr>\n",
       "      <th>108735</th>\n",
       "      <td>108735</td>\n",
       "      <td>2024-04-12</td>\n",
       "      <td>5353764779a6</td>\n",
       "      <td>39.9</td>\n",
       "      <td>1</td>\n",
       "      <td>1</td>\n",
       "    </tr>\n",
       "    <tr>\n",
       "      <th>251517</th>\n",
       "      <td>725494</td>\n",
       "      <td>2023-03-02</td>\n",
       "      <td>aaf169da967f</td>\n",
       "      <td>325.0</td>\n",
       "      <td>10</td>\n",
       "      <td>1</td>\n",
       "    </tr>\n",
       "    <tr>\n",
       "      <th>512592</th>\n",
       "      <td>1615607</td>\n",
       "      <td>2023-10-23</td>\n",
       "      <td>91ff901d6b9e</td>\n",
       "      <td>0.0</td>\n",
       "      <td>9999999999</td>\n",
       "      <td>3</td>\n",
       "    </tr>\n",
       "    <tr>\n",
       "      <th>110951</th>\n",
       "      <td>110951</td>\n",
       "      <td>2024-04-22</td>\n",
       "      <td>1b0b5f9cfd0e</td>\n",
       "      <td>269.9</td>\n",
       "      <td>35</td>\n",
       "      <td>1</td>\n",
       "    </tr>\n",
       "  </tbody>\n",
       "</table>\n",
       "</div>"
      ],
      "text/plain": [
       "        Unnamed: 0        date       item_id   price        code  store_id\n",
       "317682      791659  2023-07-24  2040c15d35b9    29.9           7         1\n",
       "546915     1649930  2024-06-17  1ceadc84aac9     0.0           7         3\n",
       "163191      163191  2024-09-11  cde2a453130b   439.9          35         1\n",
       "598666     1785073  2024-01-08  fc29adcfdf7e  1099.9           9         4\n",
       "100699      100699  2024-03-24  260ee497efc6    67.9          12         1\n",
       "412058     1124294  2024-08-08  a80d3c70c72c   139.9           1         2\n",
       "108735      108735  2024-04-12  5353764779a6    39.9           1         1\n",
       "251517      725494  2023-03-02  aaf169da967f   325.0          10         1\n",
       "512592     1615607  2023-10-23  91ff901d6b9e     0.0  9999999999         3\n",
       "110951      110951  2024-04-22  1b0b5f9cfd0e   269.9          35         1"
      ]
     },
     "execution_count": 158,
     "metadata": {},
     "output_type": "execute_result"
    }
   ],
   "source": [
    "df_price.sample(10)"
   ]
  },
  {
   "cell_type": "code",
   "execution_count": 159,
   "metadata": {},
   "outputs": [
    {
     "data": {
      "text/plain": [
       "0"
      ]
     },
     "execution_count": 159,
     "metadata": {},
     "output_type": "execute_result"
    }
   ],
   "source": [
    "df_price.duplicated().sum()"
   ]
  },
  {
   "cell_type": "code",
   "execution_count": 160,
   "metadata": {},
   "outputs": [
    {
     "data": {
      "text/plain": [
       "0"
      ]
     },
     "execution_count": 160,
     "metadata": {},
     "output_type": "execute_result"
    }
   ],
   "source": [
    "df_discount.duplicated().sum()"
   ]
  },
  {
   "cell_type": "markdown",
   "metadata": {
    "id": "bnviRCUI-bb7"
   },
   "source": [
    "### Uniqueness Summary\n",
    "\n",
    "* We found no duplications."
   ]
  },
  {
   "cell_type": "markdown",
   "metadata": {},
   "source": [
    "## Tideness"
   ]
  },
  {
   "cell_type": "markdown",
   "metadata": {
    "id": "lXhGiYyiwwKN"
   },
   "source": [
    "### Each variable forms a column:"
   ]
  },
  {
   "cell_type": "code",
   "execution_count": 161,
   "metadata": {
    "id": "fleC5rORI0Xl"
   },
   "outputs": [
    {
     "data": {
      "text/html": [
       "<div>\n",
       "<style scoped>\n",
       "    .dataframe tbody tr th:only-of-type {\n",
       "        vertical-align: middle;\n",
       "    }\n",
       "\n",
       "    .dataframe tbody tr th {\n",
       "        vertical-align: top;\n",
       "    }\n",
       "\n",
       "    .dataframe thead th {\n",
       "        text-align: right;\n",
       "    }\n",
       "</style>\n",
       "<table border=\"1\" class=\"dataframe\">\n",
       "  <thead>\n",
       "    <tr style=\"text-align: right;\">\n",
       "      <th></th>\n",
       "      <th>Unnamed: 0</th>\n",
       "      <th>date</th>\n",
       "      <th>item_id</th>\n",
       "      <th>price</th>\n",
       "      <th>code</th>\n",
       "      <th>store_id</th>\n",
       "    </tr>\n",
       "  </thead>\n",
       "  <tbody>\n",
       "    <tr>\n",
       "      <th>27554</th>\n",
       "      <td>27554</td>\n",
       "      <td>2023-10-03</td>\n",
       "      <td>574a0ce6f467</td>\n",
       "      <td>108.0</td>\n",
       "      <td>1</td>\n",
       "      <td>1</td>\n",
       "    </tr>\n",
       "    <tr>\n",
       "      <th>685692</th>\n",
       "      <td>1872099</td>\n",
       "      <td>2024-08-28</td>\n",
       "      <td>20bac4255fe6</td>\n",
       "      <td>22.9</td>\n",
       "      <td>35</td>\n",
       "      <td>4</td>\n",
       "    </tr>\n",
       "    <tr>\n",
       "      <th>88668</th>\n",
       "      <td>88668</td>\n",
       "      <td>2024-02-19</td>\n",
       "      <td>4e0543c818d4</td>\n",
       "      <td>0.0</td>\n",
       "      <td>9999999999</td>\n",
       "      <td>1</td>\n",
       "    </tr>\n",
       "    <tr>\n",
       "      <th>390539</th>\n",
       "      <td>1102775</td>\n",
       "      <td>2024-04-24</td>\n",
       "      <td>4e27ffa4a3dd</td>\n",
       "      <td>69.9</td>\n",
       "      <td>35</td>\n",
       "      <td>2</td>\n",
       "    </tr>\n",
       "    <tr>\n",
       "      <th>665928</th>\n",
       "      <td>1852335</td>\n",
       "      <td>2024-07-02</td>\n",
       "      <td>b84d099e25e1</td>\n",
       "      <td>1439.9</td>\n",
       "      <td>1</td>\n",
       "      <td>4</td>\n",
       "    </tr>\n",
       "  </tbody>\n",
       "</table>\n",
       "</div>"
      ],
      "text/plain": [
       "        Unnamed: 0        date       item_id   price        code  store_id\n",
       "27554        27554  2023-10-03  574a0ce6f467   108.0           1         1\n",
       "685692     1872099  2024-08-28  20bac4255fe6    22.9          35         4\n",
       "88668        88668  2024-02-19  4e0543c818d4     0.0  9999999999         1\n",
       "390539     1102775  2024-04-24  4e27ffa4a3dd    69.9          35         2\n",
       "665928     1852335  2024-07-02  b84d099e25e1  1439.9           1         4"
      ]
     },
     "execution_count": 161,
     "metadata": {},
     "output_type": "execute_result"
    }
   ],
   "source": [
    "df_price.sample(5)"
   ]
  },
  {
   "cell_type": "code",
   "execution_count": 162,
   "metadata": {},
   "outputs": [
    {
     "data": {
      "text/html": [
       "<div>\n",
       "<style scoped>\n",
       "    .dataframe tbody tr th:only-of-type {\n",
       "        vertical-align: middle;\n",
       "    }\n",
       "\n",
       "    .dataframe tbody tr th {\n",
       "        vertical-align: top;\n",
       "    }\n",
       "\n",
       "    .dataframe thead th {\n",
       "        text-align: right;\n",
       "    }\n",
       "</style>\n",
       "<table border=\"1\" class=\"dataframe\">\n",
       "  <thead>\n",
       "    <tr style=\"text-align: right;\">\n",
       "      <th></th>\n",
       "      <th>Unnamed: 0</th>\n",
       "      <th>date</th>\n",
       "      <th>item_id</th>\n",
       "      <th>sale_price_before_promo</th>\n",
       "      <th>sale_price_time_promo</th>\n",
       "      <th>promo_type_code</th>\n",
       "      <th>doc_id</th>\n",
       "      <th>number_disc_day</th>\n",
       "      <th>store_id</th>\n",
       "    </tr>\n",
       "  </thead>\n",
       "  <tbody>\n",
       "    <tr>\n",
       "      <th>2452951</th>\n",
       "      <td>8101793</td>\n",
       "      <td>2024-09-10</td>\n",
       "      <td>cb1b8e1d5dd8</td>\n",
       "      <td>289.9</td>\n",
       "      <td>239.9</td>\n",
       "      <td>5.0</td>\n",
       "      <td>72145db9-6578-11ef-bb94-005056afbcf1</td>\n",
       "      <td>1.0</td>\n",
       "      <td>2</td>\n",
       "    </tr>\n",
       "    <tr>\n",
       "      <th>3679633</th>\n",
       "      <td>11353822</td>\n",
       "      <td>2024-09-30</td>\n",
       "      <td>e3b4df920f48</td>\n",
       "      <td>29.9</td>\n",
       "      <td>29.9</td>\n",
       "      <td>5.0</td>\n",
       "      <td>ebbd8f47-7b48-11ef-bb95-005056afbcf1</td>\n",
       "      <td>5.0</td>\n",
       "      <td>4</td>\n",
       "    </tr>\n",
       "    <tr>\n",
       "      <th>2853915</th>\n",
       "      <td>10521318</td>\n",
       "      <td>2024-04-13</td>\n",
       "      <td>42c977c6bdb3</td>\n",
       "      <td>109.9</td>\n",
       "      <td>99.9</td>\n",
       "      <td>6.0</td>\n",
       "      <td>b9031673-f647-11ee-bb94-005056afbcf1</td>\n",
       "      <td>3.0</td>\n",
       "      <td>3</td>\n",
       "    </tr>\n",
       "    <tr>\n",
       "      <th>3108902</th>\n",
       "      <td>10783091</td>\n",
       "      <td>2023-12-28</td>\n",
       "      <td>cffc105d4b68</td>\n",
       "      <td>319.9</td>\n",
       "      <td>229.9</td>\n",
       "      <td>44.0</td>\n",
       "      <td>a1e776ff-9fa3-11ee-bb94-005056afbcf1</td>\n",
       "      <td>8.0</td>\n",
       "      <td>4</td>\n",
       "    </tr>\n",
       "    <tr>\n",
       "      <th>1415879</th>\n",
       "      <td>5064195</td>\n",
       "      <td>2024-06-05</td>\n",
       "      <td>63d1d3c50701</td>\n",
       "      <td>699.9</td>\n",
       "      <td>549.9</td>\n",
       "      <td>5.0</td>\n",
       "      <td>43644fd1-166d-11ef-bb94-005056afbcf1</td>\n",
       "      <td>17.0</td>\n",
       "      <td>1</td>\n",
       "    </tr>\n",
       "  </tbody>\n",
       "</table>\n",
       "</div>"
      ],
      "text/plain": [
       "         Unnamed: 0        date       item_id  sale_price_before_promo  \\\n",
       "2452951     8101793  2024-09-10  cb1b8e1d5dd8                    289.9   \n",
       "3679633    11353822  2024-09-30  e3b4df920f48                     29.9   \n",
       "2853915    10521318  2024-04-13  42c977c6bdb3                    109.9   \n",
       "3108902    10783091  2023-12-28  cffc105d4b68                    319.9   \n",
       "1415879     5064195  2024-06-05  63d1d3c50701                    699.9   \n",
       "\n",
       "         sale_price_time_promo  promo_type_code  \\\n",
       "2452951                  239.9              5.0   \n",
       "3679633                   29.9              5.0   \n",
       "2853915                   99.9              6.0   \n",
       "3108902                  229.9             44.0   \n",
       "1415879                  549.9              5.0   \n",
       "\n",
       "                                       doc_id  number_disc_day  store_id  \n",
       "2452951  72145db9-6578-11ef-bb94-005056afbcf1              1.0         2  \n",
       "3679633  ebbd8f47-7b48-11ef-bb95-005056afbcf1              5.0         4  \n",
       "2853915  b9031673-f647-11ee-bb94-005056afbcf1              3.0         3  \n",
       "3108902  a1e776ff-9fa3-11ee-bb94-005056afbcf1              8.0         4  \n",
       "1415879  43644fd1-166d-11ef-bb94-005056afbcf1             17.0         1  "
      ]
     },
     "execution_count": 162,
     "metadata": {},
     "output_type": "execute_result"
    }
   ],
   "source": [
    "df_discount.sample(5)"
   ]
  },
  {
   "cell_type": "code",
   "execution_count": 163,
   "metadata": {},
   "outputs": [
    {
     "data": {
      "text/plain": [
       "RangeIndex(start=0, stop=698626, step=1)"
      ]
     },
     "execution_count": 163,
     "metadata": {},
     "output_type": "execute_result"
    }
   ],
   "source": [
    "df_price.index"
   ]
  },
  {
   "cell_type": "code",
   "execution_count": 164,
   "metadata": {},
   "outputs": [
    {
     "data": {
      "text/plain": [
       "Index(['Unnamed: 0', 'date', 'item_id', 'price', 'code', 'store_id'], dtype='object')"
      ]
     },
     "execution_count": 164,
     "metadata": {},
     "output_type": "execute_result"
    }
   ],
   "source": [
    "df_price.columns"
   ]
  },
  {
   "cell_type": "code",
   "execution_count": 165,
   "metadata": {},
   "outputs": [
    {
     "data": {
      "text/plain": [
       "RangeIndex(start=0, stop=3746744, step=1)"
      ]
     },
     "execution_count": 165,
     "metadata": {},
     "output_type": "execute_result"
    }
   ],
   "source": [
    "df_discount.index"
   ]
  },
  {
   "cell_type": "code",
   "execution_count": 166,
   "metadata": {},
   "outputs": [
    {
     "data": {
      "text/plain": [
       "Index(['Unnamed: 0', 'date', 'item_id', 'sale_price_before_promo',\n",
       "       'sale_price_time_promo', 'promo_type_code', 'doc_id', 'number_disc_day',\n",
       "       'store_id'],\n",
       "      dtype='object')"
      ]
     },
     "execution_count": 166,
     "metadata": {},
     "output_type": "execute_result"
    }
   ],
   "source": [
    "df_discount.columns"
   ]
  },
  {
   "cell_type": "markdown",
   "metadata": {},
   "source": [
    " here as we show The \"Unnamed: 0\" column is a leftover index column that does not provide meaningful information. It does not represent a variable and should be removed to improve tidiness.\n",
    "\n"
   ]
  },
  {
   "cell_type": "markdown",
   "metadata": {
    "id": "4ffMoRGSwzYj"
   },
   "source": [
    "### Non-Atomic Column: "
   ]
  },
  {
   "cell_type": "code",
   "execution_count": 167,
   "metadata": {
    "id": "XUpeoqokw5Qt"
   },
   "outputs": [
    {
     "data": {
      "text/html": [
       "<div>\n",
       "<style scoped>\n",
       "    .dataframe tbody tr th:only-of-type {\n",
       "        vertical-align: middle;\n",
       "    }\n",
       "\n",
       "    .dataframe tbody tr th {\n",
       "        vertical-align: top;\n",
       "    }\n",
       "\n",
       "    .dataframe thead th {\n",
       "        text-align: right;\n",
       "    }\n",
       "</style>\n",
       "<table border=\"1\" class=\"dataframe\">\n",
       "  <thead>\n",
       "    <tr style=\"text-align: right;\">\n",
       "      <th></th>\n",
       "      <th>Unnamed: 0</th>\n",
       "      <th>date</th>\n",
       "      <th>item_id</th>\n",
       "      <th>price</th>\n",
       "      <th>code</th>\n",
       "      <th>store_id</th>\n",
       "    </tr>\n",
       "  </thead>\n",
       "  <tbody>\n",
       "    <tr>\n",
       "      <th>44506</th>\n",
       "      <td>44506</td>\n",
       "      <td>2023-11-07</td>\n",
       "      <td>8759855b9340</td>\n",
       "      <td>599.9</td>\n",
       "      <td>29</td>\n",
       "      <td>1</td>\n",
       "    </tr>\n",
       "    <tr>\n",
       "      <th>128406</th>\n",
       "      <td>128406</td>\n",
       "      <td>2024-06-07</td>\n",
       "      <td>f0d13cf12f86</td>\n",
       "      <td>0.0</td>\n",
       "      <td>9999999999</td>\n",
       "      <td>1</td>\n",
       "    </tr>\n",
       "    <tr>\n",
       "      <th>374638</th>\n",
       "      <td>1086874</td>\n",
       "      <td>2024-02-14</td>\n",
       "      <td>2b237d61d181</td>\n",
       "      <td>119.9</td>\n",
       "      <td>35</td>\n",
       "      <td>2</td>\n",
       "    </tr>\n",
       "    <tr>\n",
       "      <th>687076</th>\n",
       "      <td>1873483</td>\n",
       "      <td>2024-08-29</td>\n",
       "      <td>42a8b395848e</td>\n",
       "      <td>399.9</td>\n",
       "      <td>10</td>\n",
       "      <td>4</td>\n",
       "    </tr>\n",
       "    <tr>\n",
       "      <th>292251</th>\n",
       "      <td>766228</td>\n",
       "      <td>2023-06-08</td>\n",
       "      <td>cfe01f0073fa</td>\n",
       "      <td>154.9</td>\n",
       "      <td>10</td>\n",
       "      <td>1</td>\n",
       "    </tr>\n",
       "  </tbody>\n",
       "</table>\n",
       "</div>"
      ],
      "text/plain": [
       "        Unnamed: 0        date       item_id  price        code  store_id\n",
       "44506        44506  2023-11-07  8759855b9340  599.9          29         1\n",
       "128406      128406  2024-06-07  f0d13cf12f86    0.0  9999999999         1\n",
       "374638     1086874  2024-02-14  2b237d61d181  119.9          35         2\n",
       "687076     1873483  2024-08-29  42a8b395848e  399.9          10         4\n",
       "292251      766228  2023-06-08  cfe01f0073fa  154.9          10         1"
      ]
     },
     "execution_count": 167,
     "metadata": {},
     "output_type": "execute_result"
    }
   ],
   "source": [
    "df_price.sample(5)"
   ]
  },
  {
   "cell_type": "code",
   "execution_count": 168,
   "metadata": {},
   "outputs": [
    {
     "data": {
      "text/html": [
       "<div>\n",
       "<style scoped>\n",
       "    .dataframe tbody tr th:only-of-type {\n",
       "        vertical-align: middle;\n",
       "    }\n",
       "\n",
       "    .dataframe tbody tr th {\n",
       "        vertical-align: top;\n",
       "    }\n",
       "\n",
       "    .dataframe thead th {\n",
       "        text-align: right;\n",
       "    }\n",
       "</style>\n",
       "<table border=\"1\" class=\"dataframe\">\n",
       "  <thead>\n",
       "    <tr style=\"text-align: right;\">\n",
       "      <th></th>\n",
       "      <th>Unnamed: 0</th>\n",
       "      <th>date</th>\n",
       "      <th>item_id</th>\n",
       "      <th>sale_price_before_promo</th>\n",
       "      <th>sale_price_time_promo</th>\n",
       "      <th>promo_type_code</th>\n",
       "      <th>doc_id</th>\n",
       "      <th>number_disc_day</th>\n",
       "      <th>store_id</th>\n",
       "    </tr>\n",
       "  </thead>\n",
       "  <tbody>\n",
       "    <tr>\n",
       "      <th>1167699</th>\n",
       "      <td>4816015</td>\n",
       "      <td>2024-02-13</td>\n",
       "      <td>f0f5c70444fd</td>\n",
       "      <td>43.9</td>\n",
       "      <td>32.9</td>\n",
       "      <td>5.0</td>\n",
       "      <td>3d44e93b-c003-11ee-bb94-005056afbcf1</td>\n",
       "      <td>14.0</td>\n",
       "      <td>1</td>\n",
       "    </tr>\n",
       "    <tr>\n",
       "      <th>1260232</th>\n",
       "      <td>4908548</td>\n",
       "      <td>2024-03-27</td>\n",
       "      <td>e53621aba225</td>\n",
       "      <td>1299.0</td>\n",
       "      <td>498.0</td>\n",
       "      <td>6.0</td>\n",
       "      <td>b8f9258a-e05c-11ee-bb94-005056afbcf1</td>\n",
       "      <td>14.0</td>\n",
       "      <td>1</td>\n",
       "    </tr>\n",
       "    <tr>\n",
       "      <th>1428308</th>\n",
       "      <td>5076624</td>\n",
       "      <td>2024-06-11</td>\n",
       "      <td>f86a3add85cc</td>\n",
       "      <td>289.9</td>\n",
       "      <td>279.9</td>\n",
       "      <td>5.0</td>\n",
       "      <td>49da4cdd-26f5-11ef-bb94-005056afbcf1</td>\n",
       "      <td>2.0</td>\n",
       "      <td>1</td>\n",
       "    </tr>\n",
       "    <tr>\n",
       "      <th>3618432</th>\n",
       "      <td>11292621</td>\n",
       "      <td>2024-08-31</td>\n",
       "      <td>fdd6dabc2e15</td>\n",
       "      <td>479.9</td>\n",
       "      <td>319.9</td>\n",
       "      <td>5.0</td>\n",
       "      <td>2444d80c-604e-11ef-bb94-005056afbcf1</td>\n",
       "      <td>10.0</td>\n",
       "      <td>4</td>\n",
       "    </tr>\n",
       "    <tr>\n",
       "      <th>3219493</th>\n",
       "      <td>10893682</td>\n",
       "      <td>2024-02-26</td>\n",
       "      <td>ee10681b61dd</td>\n",
       "      <td>74.9</td>\n",
       "      <td>54.9</td>\n",
       "      <td>6.0</td>\n",
       "      <td>8bd1d673-fbd7-11ee-bb94-005056afbcf1</td>\n",
       "      <td>682.0</td>\n",
       "      <td>4</td>\n",
       "    </tr>\n",
       "  </tbody>\n",
       "</table>\n",
       "</div>"
      ],
      "text/plain": [
       "         Unnamed: 0        date       item_id  sale_price_before_promo  \\\n",
       "1167699     4816015  2024-02-13  f0f5c70444fd                     43.9   \n",
       "1260232     4908548  2024-03-27  e53621aba225                   1299.0   \n",
       "1428308     5076624  2024-06-11  f86a3add85cc                    289.9   \n",
       "3618432    11292621  2024-08-31  fdd6dabc2e15                    479.9   \n",
       "3219493    10893682  2024-02-26  ee10681b61dd                     74.9   \n",
       "\n",
       "         sale_price_time_promo  promo_type_code  \\\n",
       "1167699                   32.9              5.0   \n",
       "1260232                  498.0              6.0   \n",
       "1428308                  279.9              5.0   \n",
       "3618432                  319.9              5.0   \n",
       "3219493                   54.9              6.0   \n",
       "\n",
       "                                       doc_id  number_disc_day  store_id  \n",
       "1167699  3d44e93b-c003-11ee-bb94-005056afbcf1             14.0         1  \n",
       "1260232  b8f9258a-e05c-11ee-bb94-005056afbcf1             14.0         1  \n",
       "1428308  49da4cdd-26f5-11ef-bb94-005056afbcf1              2.0         1  \n",
       "3618432  2444d80c-604e-11ef-bb94-005056afbcf1             10.0         4  \n",
       "3219493  8bd1d673-fbd7-11ee-bb94-005056afbcf1            682.0         4  "
      ]
     },
     "execution_count": 168,
     "metadata": {},
     "output_type": "execute_result"
    }
   ],
   "source": [
    "df_discount.sample(5)"
   ]
  },
  {
   "cell_type": "markdown",
   "metadata": {},
   "source": [
    "The \"doc_id\" column appears to encode multiple pieces of information (e.g., store, date, or other identifiers) in a single column. This violates the principle of atomicity, where each column should represent one variable."
   ]
  },
  {
   "cell_type": "code",
   "execution_count": null,
   "metadata": {},
   "outputs": [],
   "source": []
  },
  {
   "cell_type": "markdown",
   "metadata": {},
   "source": [
    "## Tidiness Summary:\n",
    "\n",
    "Upon exploring the datasets, we identified that the Unnamed column in the price_history and discount_history dataset is unnecessary and does not contain meaningful values\n",
    "\n"
   ]
  },
  {
   "cell_type": "markdown",
   "metadata": {},
   "source": [
    "### Assessing Data Summary\n",
    "\n",
    "Both datasets meet the key conditions of tidiness, where each variable is represented as a column and each observation forms a row. The datasets include relevant variables such as item_id, store_id, date, and others. However, there are some areas to address, like unnecessary columns (e.g., \"Unnamed\" columns)and missing values, These issues need to be cleaned for effective analysis.\n",
    "\n",
    "\n",
    "\n",
    "\n",
    "\n",
    "\n"
   ]
  },
  {
   "cell_type": "markdown",
   "metadata": {
    "id": "D6gmLnBttpCh"
   },
   "source": [
    "## 3. Clean data\n"
   ]
  },
  {
   "cell_type": "code",
   "execution_count": 171,
   "metadata": {},
   "outputs": [],
   "source": [
    "# Make copies of the original datasets\n",
    "df_price_copy = df_price.copy()\n",
    "df_discount_copy = df_discount.copy()\n"
   ]
  },
  {
   "cell_type": "code",
   "execution_count": 172,
   "metadata": {},
   "outputs": [
    {
     "data": {
      "text/html": [
       "<div>\n",
       "<style scoped>\n",
       "    .dataframe tbody tr th:only-of-type {\n",
       "        vertical-align: middle;\n",
       "    }\n",
       "\n",
       "    .dataframe tbody tr th {\n",
       "        vertical-align: top;\n",
       "    }\n",
       "\n",
       "    .dataframe thead th {\n",
       "        text-align: right;\n",
       "    }\n",
       "</style>\n",
       "<table border=\"1\" class=\"dataframe\">\n",
       "  <thead>\n",
       "    <tr style=\"text-align: right;\">\n",
       "      <th></th>\n",
       "      <th>Unnamed: 0</th>\n",
       "      <th>date</th>\n",
       "      <th>item_id</th>\n",
       "      <th>price</th>\n",
       "      <th>code</th>\n",
       "      <th>store_id</th>\n",
       "    </tr>\n",
       "  </thead>\n",
       "  <tbody>\n",
       "    <tr>\n",
       "      <th>0</th>\n",
       "      <td>0</td>\n",
       "      <td>2023-08-01</td>\n",
       "      <td>4a1f95fe4d4b</td>\n",
       "      <td>499.9</td>\n",
       "      <td>1</td>\n",
       "      <td>1</td>\n",
       "    </tr>\n",
       "    <tr>\n",
       "      <th>1</th>\n",
       "      <td>1</td>\n",
       "      <td>2023-08-01</td>\n",
       "      <td>bf43a9d3ae13</td>\n",
       "      <td>0.0</td>\n",
       "      <td>9999999999</td>\n",
       "      <td>1</td>\n",
       "    </tr>\n",
       "    <tr>\n",
       "      <th>2</th>\n",
       "      <td>2</td>\n",
       "      <td>2023-08-01</td>\n",
       "      <td>0dd8744decce</td>\n",
       "      <td>129.9</td>\n",
       "      <td>1</td>\n",
       "      <td>1</td>\n",
       "    </tr>\n",
       "    <tr>\n",
       "      <th>3</th>\n",
       "      <td>3</td>\n",
       "      <td>2023-08-01</td>\n",
       "      <td>9b38c7e4dba9</td>\n",
       "      <td>136.0</td>\n",
       "      <td>1</td>\n",
       "      <td>1</td>\n",
       "    </tr>\n",
       "    <tr>\n",
       "      <th>4</th>\n",
       "      <td>4</td>\n",
       "      <td>2023-08-01</td>\n",
       "      <td>b791e8c9347c</td>\n",
       "      <td>0.0</td>\n",
       "      <td>1</td>\n",
       "      <td>1</td>\n",
       "    </tr>\n",
       "  </tbody>\n",
       "</table>\n",
       "</div>"
      ],
      "text/plain": [
       "   Unnamed: 0        date       item_id  price        code  store_id\n",
       "0           0  2023-08-01  4a1f95fe4d4b  499.9           1         1\n",
       "1           1  2023-08-01  bf43a9d3ae13    0.0  9999999999         1\n",
       "2           2  2023-08-01  0dd8744decce  129.9           1         1\n",
       "3           3  2023-08-01  9b38c7e4dba9  136.0           1         1\n",
       "4           4  2023-08-01  b791e8c9347c    0.0           1         1"
      ]
     },
     "execution_count": 172,
     "metadata": {},
     "output_type": "execute_result"
    }
   ],
   "source": [
    "df_price_copy.head()"
   ]
  },
  {
   "cell_type": "code",
   "execution_count": 1,
   "metadata": {},
   "outputs": [
    {
     "ename": "NameError",
     "evalue": "name 'df_discount_copy' is not defined",
     "output_type": "error",
     "traceback": [
      "\u001b[0;31m---------------------------------------------------------------------------\u001b[0m",
      "\u001b[0;31mNameError\u001b[0m                                 Traceback (most recent call last)",
      "Cell \u001b[0;32mIn [1], line 1\u001b[0m\n\u001b[0;32m----> 1\u001b[0m \u001b[43mdf_discount_copy\u001b[49m\u001b[38;5;241m.\u001b[39mhead()\n",
      "\u001b[0;31mNameError\u001b[0m: name 'df_discount_copy' is not defined"
     ]
    }
   ],
   "source": [
    "df_discount_copy.head()"
   ]
  },
  {
   "cell_type": "markdown",
   "metadata": {
    "id": "FmFhN52Yyn3l"
   },
   "source": [
    "### validity issue :\n",
    "   - We found inconsistent data types in the date column, which is stored as an object instead of a datetime type. This inconsistency can affect time-based operations, such as sorting, filtering, or time-series analysis. Converting the date column to a datetime type will enable accurate date manipulations and improve the overall analysis.\n",
    "\n",
    "\n",
    "\n",
    "\n",
    "\n"
   ]
  },
  {
   "cell_type": "code",
   "execution_count": 174,
   "metadata": {},
   "outputs": [],
   "source": [
    "# change the data type for date\n",
    "df_discount_copy['date'] = pd.to_datetime(df_discount_copy['date'])\n",
    "df_price_copy['date'] = pd.to_datetime(df_price_copy['date'])\n"
   ]
  },
  {
   "cell_type": "code",
   "execution_count": 175,
   "metadata": {},
   "outputs": [
    {
     "name": "stdout",
     "output_type": "stream",
     "text": [
      "<class 'pandas.core.frame.DataFrame'>\n",
      "RangeIndex: 3746744 entries, 0 to 3746743\n",
      "Data columns (total 9 columns):\n",
      " #   Column                   Dtype         \n",
      "---  ------                   -----         \n",
      " 0   Unnamed: 0               int64         \n",
      " 1   date                     datetime64[ns]\n",
      " 2   item_id                  object        \n",
      " 3   sale_price_before_promo  float64       \n",
      " 4   sale_price_time_promo    float64       \n",
      " 5   promo_type_code          float64       \n",
      " 6   doc_id                   object        \n",
      " 7   number_disc_day          float64       \n",
      " 8   store_id                 int64         \n",
      "dtypes: datetime64[ns](1), float64(4), int64(2), object(2)\n",
      "memory usage: 257.3+ MB\n"
     ]
    }
   ],
   "source": [
    "df_discount_copy.info()"
   ]
  },
  {
   "cell_type": "code",
   "execution_count": 176,
   "metadata": {},
   "outputs": [
    {
     "name": "stdout",
     "output_type": "stream",
     "text": [
      "<class 'pandas.core.frame.DataFrame'>\n",
      "RangeIndex: 698626 entries, 0 to 698625\n",
      "Data columns (total 6 columns):\n",
      " #   Column      Non-Null Count   Dtype         \n",
      "---  ------      --------------   -----         \n",
      " 0   Unnamed: 0  698626 non-null  int64         \n",
      " 1   date        698626 non-null  datetime64[ns]\n",
      " 2   item_id     698626 non-null  object        \n",
      " 3   price       698626 non-null  float64       \n",
      " 4   code        698626 non-null  int64         \n",
      " 5   store_id    698626 non-null  int64         \n",
      "dtypes: datetime64[ns](1), float64(1), int64(3), object(1)\n",
      "memory usage: 32.0+ MB\n"
     ]
    }
   ],
   "source": [
    "df_price_copy.info()"
   ]
  },
  {
   "cell_type": "code",
   "execution_count": 177,
   "metadata": {
    "id": "9UejDWrNMW4a"
   },
   "outputs": [],
   "source": [
    "#fill the null value with 0\n",
    "df_discount_copy['promo_type_code']= df_discount_copy['promo_type_code'].fillna(0)\n"
   ]
  },
  {
   "cell_type": "code",
   "execution_count": 178,
   "metadata": {
    "id": "oUBee-LPytkv"
   },
   "outputs": [
    {
     "data": {
      "text/plain": [
       "Unnamed: 0                 0\n",
       "date                       0\n",
       "item_id                    0\n",
       "sale_price_before_promo    0\n",
       "sale_price_time_promo      0\n",
       "promo_type_code            0\n",
       "doc_id                     0\n",
       "number_disc_day            0\n",
       "store_id                   0\n",
       "dtype: int64"
      ]
     },
     "execution_count": 178,
     "metadata": {},
     "output_type": "execute_result"
    }
   ],
   "source": [
    "df_discount_copy.isnull().sum()\n"
   ]
  },
  {
   "cell_type": "markdown",
   "metadata": {
    "id": "bIUrrfSNyOPR"
   },
   "source": [
    "### Each variable is represented as a column with meaningful values : "
   ]
  },
  {
   "cell_type": "code",
   "execution_count": 179,
   "metadata": {
    "id": "fib0zAm333bn"
   },
   "outputs": [
    {
     "data": {
      "text/plain": [
       "Index(['Unnamed: 0', 'date', 'item_id', 'sale_price_before_promo',\n",
       "       'sale_price_time_promo', 'promo_type_code', 'doc_id', 'number_disc_day',\n",
       "       'store_id'],\n",
       "      dtype='object')"
      ]
     },
     "execution_count": 179,
     "metadata": {},
     "output_type": "execute_result"
    }
   ],
   "source": [
    "df_discount_copy.columns"
   ]
  },
  {
   "cell_type": "code",
   "execution_count": 180,
   "metadata": {},
   "outputs": [
    {
     "data": {
      "text/plain": [
       "Index(['Unnamed: 0', 'date', 'item_id', 'price', 'code', 'store_id'], dtype='object')"
      ]
     },
     "execution_count": 180,
     "metadata": {},
     "output_type": "execute_result"
    }
   ],
   "source": [
    "df_price_copy.columns"
   ]
  },
  {
   "cell_type": "code",
   "execution_count": 181,
   "metadata": {
    "id": "yhrnUGY_Nk8B"
   },
   "outputs": [],
   "source": [
    "df_price_copy = df_price_copy.drop(columns=[\"Unnamed: 0\"])\n",
    "\n",
    "df_discount_copy = df_discount_copy.drop(columns=[\"Unnamed: 0\"])\n"
   ]
  },
  {
   "cell_type": "code",
   "execution_count": 182,
   "metadata": {
    "id": "o51Bt8kwyTzk"
   },
   "outputs": [
    {
     "data": {
      "text/plain": [
       "Index(['date', 'item_id', 'price', 'code', 'store_id'], dtype='object')"
      ]
     },
     "execution_count": 182,
     "metadata": {},
     "output_type": "execute_result"
    }
   ],
   "source": [
    "df_price_copy.columns"
   ]
  },
  {
   "cell_type": "code",
   "execution_count": 183,
   "metadata": {
    "id": "7zW8O5yx4Y9O"
   },
   "outputs": [
    {
     "data": {
      "text/plain": [
       "Index(['date', 'item_id', 'sale_price_before_promo', 'sale_price_time_promo',\n",
       "       'promo_type_code', 'doc_id', 'number_disc_day', 'store_id'],\n",
       "      dtype='object')"
      ]
     },
     "execution_count": 183,
     "metadata": {},
     "output_type": "execute_result"
    }
   ],
   "source": [
    "df_discount_copy.columns"
   ]
  },
  {
   "cell_type": "markdown",
   "metadata": {},
   "source": [
    "### **Tidiness Issues:**\n",
    "\n",
    " - The \"Unnamed\" column was unnecessary and was removed to ensure that each column in the dataset represents a meaningful variable, adhering to the requirement that each variable forms a column.\n",
    "\n",
    "\n",
    "\n",
    "\n",
    "\n"
   ]
  },
  {
   "cell_type": "markdown",
   "metadata": {},
   "source": [
    "### **Remove unnecessary variables and combine datasets**\n",
    "\n"
   ]
  },
  {
   "cell_type": "code",
   "execution_count": 184,
   "metadata": {},
   "outputs": [],
   "source": [
    "df_discount_copy = df_discount_copy.drop(columns=[ \"doc_id\", \"sale_price_before_promo\", \n",
    "                                         \"sale_price_time_promo\", \"promo_type_code\"])\n"
   ]
  },
  {
   "cell_type": "markdown",
   "metadata": {},
   "source": [
    "### Justification for Dropping Columns:\n",
    "\n",
    "The columns doc_id, sale_price_before_promo, sale_price_time_promo, and promo_type_code were dropped from the df_discount_copy dataset because they were unnecessary for answering the selected research questions. These columns did not contribute directly to the analysis of the most frequently discounted items or the relationship between prices and time, and removing them helped to simplify the dataset, focusing only on the relevant data for the analysis.\n",
    "\n",
    "\n",
    "\n",
    "\n",
    "\n",
    "\n"
   ]
  },
  {
   "cell_type": "code",
   "execution_count": 185,
   "metadata": {},
   "outputs": [],
   "source": [
    "df_merged = pd.merge(df_price_copy, df_discount_copy, on=[\"item_id\", \"date\", \"store_id\"], how=\"inner\")\n"
   ]
  },
  {
   "cell_type": "code",
   "execution_count": 186,
   "metadata": {},
   "outputs": [
    {
     "data": {
      "text/html": [
       "<div>\n",
       "<style scoped>\n",
       "    .dataframe tbody tr th:only-of-type {\n",
       "        vertical-align: middle;\n",
       "    }\n",
       "\n",
       "    .dataframe tbody tr th {\n",
       "        vertical-align: top;\n",
       "    }\n",
       "\n",
       "    .dataframe thead th {\n",
       "        text-align: right;\n",
       "    }\n",
       "</style>\n",
       "<table border=\"1\" class=\"dataframe\">\n",
       "  <thead>\n",
       "    <tr style=\"text-align: right;\">\n",
       "      <th></th>\n",
       "      <th>date</th>\n",
       "      <th>item_id</th>\n",
       "      <th>price</th>\n",
       "      <th>code</th>\n",
       "      <th>store_id</th>\n",
       "      <th>number_disc_day</th>\n",
       "    </tr>\n",
       "  </thead>\n",
       "  <tbody>\n",
       "    <tr>\n",
       "      <th>0</th>\n",
       "      <td>2023-08-01</td>\n",
       "      <td>0dd8744decce</td>\n",
       "      <td>129.9</td>\n",
       "      <td>1</td>\n",
       "      <td>1</td>\n",
       "      <td>13.0</td>\n",
       "    </tr>\n",
       "    <tr>\n",
       "      <th>1</th>\n",
       "      <td>2023-08-01</td>\n",
       "      <td>0dd8744decce</td>\n",
       "      <td>129.9</td>\n",
       "      <td>1</td>\n",
       "      <td>1</td>\n",
       "      <td>13.0</td>\n",
       "    </tr>\n",
       "    <tr>\n",
       "      <th>2</th>\n",
       "      <td>2023-08-01</td>\n",
       "      <td>c5d8d5e39619</td>\n",
       "      <td>99.9</td>\n",
       "      <td>29</td>\n",
       "      <td>1</td>\n",
       "      <td>1.0</td>\n",
       "    </tr>\n",
       "    <tr>\n",
       "      <th>3</th>\n",
       "      <td>2023-08-01</td>\n",
       "      <td>c5d8d5e39619</td>\n",
       "      <td>99.9</td>\n",
       "      <td>29</td>\n",
       "      <td>1</td>\n",
       "      <td>1.0</td>\n",
       "    </tr>\n",
       "    <tr>\n",
       "      <th>4</th>\n",
       "      <td>2023-08-01</td>\n",
       "      <td>2ca122101140</td>\n",
       "      <td>249.9</td>\n",
       "      <td>29</td>\n",
       "      <td>1</td>\n",
       "      <td>1.0</td>\n",
       "    </tr>\n",
       "    <tr>\n",
       "      <th>...</th>\n",
       "      <td>...</td>\n",
       "      <td>...</td>\n",
       "      <td>...</td>\n",
       "      <td>...</td>\n",
       "      <td>...</td>\n",
       "      <td>...</td>\n",
       "    </tr>\n",
       "    <tr>\n",
       "      <th>115788</th>\n",
       "      <td>2024-09-26</td>\n",
       "      <td>5bbcd6fadbfb</td>\n",
       "      <td>569.9</td>\n",
       "      <td>29</td>\n",
       "      <td>4</td>\n",
       "      <td>1.0</td>\n",
       "    </tr>\n",
       "    <tr>\n",
       "      <th>115789</th>\n",
       "      <td>2024-09-26</td>\n",
       "      <td>02feb2cf88b5</td>\n",
       "      <td>104.9</td>\n",
       "      <td>31</td>\n",
       "      <td>4</td>\n",
       "      <td>1.0</td>\n",
       "    </tr>\n",
       "    <tr>\n",
       "      <th>115790</th>\n",
       "      <td>2024-09-26</td>\n",
       "      <td>4b7ea164af56</td>\n",
       "      <td>359.9</td>\n",
       "      <td>31</td>\n",
       "      <td>4</td>\n",
       "      <td>1.0</td>\n",
       "    </tr>\n",
       "    <tr>\n",
       "      <th>115791</th>\n",
       "      <td>2024-09-26</td>\n",
       "      <td>c1b874b62220</td>\n",
       "      <td>359.9</td>\n",
       "      <td>10</td>\n",
       "      <td>4</td>\n",
       "      <td>1.0</td>\n",
       "    </tr>\n",
       "    <tr>\n",
       "      <th>115792</th>\n",
       "      <td>2024-09-26</td>\n",
       "      <td>c1b874b62220</td>\n",
       "      <td>279.9</td>\n",
       "      <td>29</td>\n",
       "      <td>4</td>\n",
       "      <td>1.0</td>\n",
       "    </tr>\n",
       "  </tbody>\n",
       "</table>\n",
       "<p>115793 rows × 6 columns</p>\n",
       "</div>"
      ],
      "text/plain": [
       "             date       item_id  price  code  store_id  number_disc_day\n",
       "0      2023-08-01  0dd8744decce  129.9     1         1             13.0\n",
       "1      2023-08-01  0dd8744decce  129.9     1         1             13.0\n",
       "2      2023-08-01  c5d8d5e39619   99.9    29         1              1.0\n",
       "3      2023-08-01  c5d8d5e39619   99.9    29         1              1.0\n",
       "4      2023-08-01  2ca122101140  249.9    29         1              1.0\n",
       "...           ...           ...    ...   ...       ...              ...\n",
       "115788 2024-09-26  5bbcd6fadbfb  569.9    29         4              1.0\n",
       "115789 2024-09-26  02feb2cf88b5  104.9    31         4              1.0\n",
       "115790 2024-09-26  4b7ea164af56  359.9    31         4              1.0\n",
       "115791 2024-09-26  c1b874b62220  359.9    10         4              1.0\n",
       "115792 2024-09-26  c1b874b62220  279.9    29         4              1.0\n",
       "\n",
       "[115793 rows x 6 columns]"
      ]
     },
     "execution_count": 186,
     "metadata": {},
     "output_type": "execute_result"
    }
   ],
   "source": [
    "df_merged"
   ]
  },
  {
   "cell_type": "markdown",
   "metadata": {
    "id": "F42urHuzttjF"
   },
   "source": [
    "## 4. Update your data store\n",
    "Update your local database/data store with the cleaned data, following best practices for storing your cleaned data:\n",
    "\n",
    "- Must maintain different instances / versions of data (raw and cleaned data)\n",
    "- Must name the dataset files informatively\n",
    "- Ensure both the raw and cleaned data is saved to your database/data store"
   ]
  },
  {
   "cell_type": "code",
   "execution_count": 187,
   "metadata": {
    "id": "V3uay7EJUV_L"
   },
   "outputs": [
    {
     "name": "stdout",
     "output_type": "stream",
     "text": [
      "DataFrame saved as price_data_raw_20250104_145326.csv\n",
      "DataFrame saved as discount_data_raw_20250104_145328.csv\n",
      "DataFrame saved as price_data_cleaned_20250104_145403.csv\n",
      "DataFrame saved as discount_data_cleaned_20250104_145412.csv\n",
      "DataFrame saved as merged_cleaned_data_20250104_145425.csv\n"
     ]
    }
   ],
   "source": [
    "from datetime import datetime\n",
    "\n",
    "# Save DataFrame to CSV with a timestamp\n",
    "def save_dataframe(df, base_filename):\n",
    "    timestamp = datetime.now().strftime('%Y%m%d_%H%M%S')  # Includes date and time\n",
    "    filename = f\"{base_filename}_{timestamp}.csv\"\n",
    "    df.to_csv(filename, index=False)\n",
    "    print(f\"DataFrame saved as {filename}\")\n",
    "\n",
    "# Save raw datasets\n",
    "save_dataframe(df_price, 'price_data_raw')\n",
    "save_dataframe(df_discount, 'discount_data_raw')\n",
    "\n",
    "# Save cleaned datasets\n",
    "save_dataframe(df_price_copy, 'price_data_cleaned')\n",
    "save_dataframe(df_discount_copy, 'discount_data_cleaned')\n",
    "\n",
    "# Save merged dataset\n",
    "save_dataframe(df_merged, 'merged_cleaned_data')\n"
   ]
  },
  {
   "cell_type": "markdown",
   "metadata": {
    "id": "cGy_yddGtzhM"
   },
   "source": [
    "## 5. Answer the research question\n",
    "\n",
    "### **5.1:** Question 1: Which items (item_id) are discounted most frequently, and in which stores (store_id)?\n",
    " \n",
    " - To answer this question, we'll focus on the frequency of discounts by looking at the number of discount days for each item in different stores.\n",
    "\n"
   ]
  },
  {
   "cell_type": "code",
   "execution_count": 188,
   "metadata": {
    "id": "Lkw3rW9kZmOm"
   },
   "outputs": [
    {
     "data": {
      "image/png": "[encoded data removed]",
      "text/plain": [
       "<Figure size 1200x600 with 1 Axes>"
      ]
     },
     "metadata": {},
     "output_type": "display_data"
    }
   ],
   "source": [
    "\n",
    "# Count the number of discounts per item per store\n",
    "discount_counts = df_merged.groupby(['item_id', 'store_id']).size().reset_index(name='discount_count')\n",
    "\n",
    "# Sort the result to get the most discounted items\n",
    "most_discounted = discount_counts.sort_values(by='discount_count', ascending=False).head(10)\n",
    "\n",
    "# Create a bar plot for the most discounted items across stores\n",
    "plt.figure(figsize=(12, 6))\n",
    "bars = plt.bar(most_discounted['item_id'] + ' - ' + most_discounted['store_id'].astype(str),\n",
    "               most_discounted['discount_count'],\n",
    "               color='skyblue')\n",
    "\n",
    "plt.xlabel('Item ID - Store ID')\n",
    "plt.ylabel('Number of Discounts')\n",
    "plt.title('Top 10 Most Discounted Items in Stores')\n",
    "plt.xticks(rotation=45, ha='right')\n",
    "plt.tight_layout()\n",
    "\n",
    "plt.show()\n"
   ]
  },
  {
   "cell_type": "markdown",
   "metadata": {},
   "source": [
    "* The bar chart you've provided shows the Top 10 Most Discounted Items in Stores based on the number of discounts they received. The x-axis represents different item_id and store_id combinations (e.g., \"f978571e05c3-1\", \"43d9a3c77feb-1\"), while the y-axis represents the total number of discounts (number_disc_day) for each item-store combination.\n",
    "* The chart shows that some items (like \"f978571e05c3-1\") have been discounted more frequently than others, indicating they were likely subject to more promotional activity or were on sale more often in the respective stores. This visualization helps in identifying which items are most frequently discounted across various stores. \n"
   ]
  },
  {
   "cell_type": "markdown",
   "metadata": {},
   "source": [
    "### **5.2:** How do prices of items (price) vary across time (date)?\n"
   ]
  },
  {
   "cell_type": "code",
   "execution_count": 189,
   "metadata": {},
   "outputs": [
    {
     "data": {
      "image/png": "[encoded data removed]",
      "text/plain": [
       "<Figure size 1000x600 with 1 Axes>"
      ]
     },
     "metadata": {},
     "output_type": "display_data"
    }
   ],
   "source": [
    "import matplotlib.pyplot as plt\n",
    "\n",
    "# Sort the dataset by price in descending order\n",
    "sorted_price = df_merged.sort_values(by='price', ascending=False)\n",
    "\n",
    "# Get top 10 highest priced items\n",
    "top_10_highest = sorted_price.head(10)  # First 10 rows are the highest-priced items\n",
    "\n",
    "# Plotting the highest priced items\n",
    "plt.figure(figsize=(10, 6))\n",
    "plt.bar(top_10_highest['item_id'] + ' - ' + top_10_highest['store_id'].astype(str),\n",
    "        top_10_highest['price'],\n",
    "        color='salmon')\n",
    "\n",
    "plt.title('Top 10 Highest Priced Items')\n",
    "plt.xlabel('Item ID - Store ID')\n",
    "plt.ylabel('Price')\n",
    "plt.xticks(rotation=45)\n",
    "plt.tight_layout()\n",
    "plt.show()\n"
   ]
  },
  {
   "cell_type": "markdown",
   "metadata": {
    "id": "K5RgvMGUZoHn"
   },
   "source": [
    "* This bar chart illustrates the Top 10 Highest Priced Items in the dataset. The x-axis represents various combinations of item_id and store_id (e.g., \"bf7ae39ed214-3\", \"f64fdd464153-1\"), and the y-axis represents the price of the items.\n",
    "\n",
    "* The chart shows that certain items, such as \"bf7ae39ed214-1\" and \"f64fdd464153-1,\" have the highest prices compared to other items, with prices exceeding 10,000. This visualization highlights which specific item-store combinations have the most expensive items, offering insights into high-priced inventory across different stores.\n",
    "\n",
    "\n"
   ]
  },
  {
   "cell_type": "markdown",
   "metadata": {
    "id": "0ezWXXZVj-TP"
   },
   "source": [
    "### **5.2:** Reflection\n",
    "If I had more time, I would focus on investigating any potential issues with missing or duplicated data in both datasets to ensure the results are more accurate. I would also explore other research questions, such as analyzing the relationship between item categories and discount frequency, and how promotions affect sales performance over time. Additionally, I would consider examining how store-specific trends influence the effectiveness of discounts.\n",
    "\n",
    "\n"
   ]
  },
  {
   "cell_type": "code",
   "execution_count": null,
   "metadata": {},
   "outputs": [],
   "source": []
  }
 ],
 "metadata": {
  "colab": {
   "provenance": []
  },
  "kernelspec": {
   "display_name": "Python 3 (ipykernel)",
   "language": "python",
   "name": "python3"
  },
  "language_info": {
   "codemirror_mode": {
    "name": "ipython",
    "version": 3
   },
   "file_extension": ".py",
   "mimetype": "text/x-python",
   "name": "python",
   "nbconvert_exporter": "python",
   "pygments_lexer": "ipython3",
   "version": "3.10.12"
  }
 },
 "nbformat": 4,
 "nbformat_minor": 1
}
